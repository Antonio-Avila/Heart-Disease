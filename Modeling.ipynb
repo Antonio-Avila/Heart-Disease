{
 "cells": [
  {
   "cell_type": "markdown",
   "metadata": {},
   "source": [
    "# Training Model and Model Assessment"
   ]
  },
  {
   "cell_type": "code",
   "execution_count": 1,
   "metadata": {
    "pycharm": {
     "is_executing": false
    }
   },
   "outputs": [],
   "source": [
    "from IPython.core.interactiveshell import InteractiveShell\n",
    "InteractiveShell.ast_node_interactivity = \"all\"\n",
    "\n",
    "\n",
    "# supress annoying warning about upcoming changes to sklearn's Logit function\n",
    "def warn(*args, **kwargs):\n",
    "    pass\n",
    "import warnings\n",
    "warnings.warn = warn"
   ]
  },
  {
   "cell_type": "code",
   "execution_count": 2,
   "metadata": {
    "pycharm": {
     "is_executing": false,
     "name": "#%%\n"
    }
   },
   "outputs": [],
   "source": [
    "import pandas as pd\n",
    "from scipy import stats\n",
    "import statsmodels.api as sm\n",
    "import statsmodels.formula.api as smf\n",
    "import numpy as np\n",
    "\n",
    "import seaborn as sns\n",
    "sns.set(style = \"white\")\n",
    "sns.set(style = \"whitegrid\", color_codes = True)\n",
    "\n",
    "import matplotlib.pyplot as plt\n",
    "%matplotlib inline\n",
    "\n",
    "from sklearn.linear_model import LogisticRegression\n",
    "from sklearn.model_selection import cross_val_predict, cross_val_score, GridSearchCV,  StratifiedKFold, StratifiedShuffleSplit\n",
    "\n",
    "from sklearn.ensemble import RandomForestClassifier\n",
    "\n",
    "#import plotly.graph_objs as go\n",
    "#from plotly.plotly import iplot\n",
    "\n",
    "from sklearn.metrics import confusion_matrix, precision_score, recall_score, roc_curve, roc_auc_score, log_loss\n",
    "\n",
    "from sklearn.preprocessing import OneHotEncoder, StandardScaler\n",
    "from sklearn.compose import ColumnTransformer\n",
    "from sklearn.pipeline import Pipeline\n",
    "from sklearn.impute import SimpleImputer\n",
    "\n",
    "\n",
    "\n"
   ]
  },
  {
   "cell_type": "markdown",
   "metadata": {},
   "source": [
    "## Import Data"
   ]
  },
  {
   "cell_type": "code",
   "execution_count": 3,
   "metadata": {
    "pycharm": {
     "is_executing": false,
     "name": "#%%\n"
    },
    "scrolled": true
   },
   "outputs": [],
   "source": [
    "#load data\n",
    "train_values = pd.read_csv(\"train_values.csv\")\n",
    "train_labels = pd.read_csv(\"train_labels.csv\")\n",
    "test_values  = pd.read_csv(\"test_values.csv\")\n",
    "\n",
    "#merge dataframes for analysis to make my life a little easier (merging via the patient id column)\n",
    "data = pd.merge(train_values, train_labels)\n",
    "\n",
    "#make copy of data in case of screw up and drop patient id column\n",
    "patient_id = data['patient_id'].copy()\n",
    "data = data.drop(['patient_id'], axis = 1)\n",
    "train = train_values.drop(['patient_id'], axis = 1)\n",
    "y = train_labels.drop(['patient_id'], axis = 1)\n",
    "\n",
    "patient_id_test = test_values['patient_id'].copy()\n",
    "test_data = test_values.drop(['patient_id'], axis = 1)"
   ]
  },
  {
   "cell_type": "markdown",
   "metadata": {},
   "source": [
    "## Splitting Training data into train and test sets using Stratified Sampling\n",
    "Using stratified sampling to ensure the categorical variables are proportionally distributed across the training and testing sets"
   ]
  },
  {
   "cell_type": "code",
   "execution_count": 4,
   "metadata": {
    "pycharm": {
     "is_executing": false
    }
   },
   "outputs": [],
   "source": [
    "# First split data into training and testing sets and will store test for final evaluation\n",
    "\n",
    "strat_split = StratifiedShuffleSplit(n_splits = 1, test_size = 0.2, random_state = 42)\n",
    "\n",
    "for train_index, test_index in strat_split.split(train, y):\n",
    "    X_train, X_test = train.loc[train_index], train.loc[test_index]\n",
    "    y_train, y_test = y.loc[train_index], y.loc[test_index]\n",
    "    "
   ]
  },
  {
   "cell_type": "code",
   "execution_count": 5,
   "metadata": {
    "pycharm": {
     "is_executing": false
    }
   },
   "outputs": [
    {
     "data": {
      "text/html": [
       "<div>\n",
       "<style scoped>\n",
       "    .dataframe tbody tr th:only-of-type {\n",
       "        vertical-align: middle;\n",
       "    }\n",
       "\n",
       "    .dataframe tbody tr th {\n",
       "        vertical-align: top;\n",
       "    }\n",
       "\n",
       "    .dataframe thead th {\n",
       "        text-align: right;\n",
       "    }\n",
       "</style>\n",
       "<table border=\"1\" class=\"dataframe\">\n",
       "  <thead>\n",
       "    <tr style=\"text-align: right;\">\n",
       "      <th></th>\n",
       "      <th>slope_of_peak_exercise_st_segment</th>\n",
       "      <th>resting_blood_pressure</th>\n",
       "      <th>chest_pain_type</th>\n",
       "      <th>num_major_vessels</th>\n",
       "      <th>fasting_blood_sugar_gt_120_mg_per_dl</th>\n",
       "      <th>resting_ekg_results</th>\n",
       "      <th>serum_cholesterol_mg_per_dl</th>\n",
       "      <th>oldpeak_eq_st_depression</th>\n",
       "      <th>sex</th>\n",
       "      <th>age</th>\n",
       "      <th>max_heart_rate_achieved</th>\n",
       "      <th>exercise_induced_angina</th>\n",
       "    </tr>\n",
       "  </thead>\n",
       "  <tbody>\n",
       "    <tr>\n",
       "      <th>count</th>\n",
       "      <td>144.000000</td>\n",
       "      <td>144.000000</td>\n",
       "      <td>144.000000</td>\n",
       "      <td>144.000000</td>\n",
       "      <td>144.000000</td>\n",
       "      <td>144.000000</td>\n",
       "      <td>144.000000</td>\n",
       "      <td>144.000000</td>\n",
       "      <td>144.000000</td>\n",
       "      <td>144.000000</td>\n",
       "      <td>144.000000</td>\n",
       "      <td>144.000000</td>\n",
       "    </tr>\n",
       "    <tr>\n",
       "      <th>mean</th>\n",
       "      <td>1.513889</td>\n",
       "      <td>130.395833</td>\n",
       "      <td>3.152778</td>\n",
       "      <td>0.694444</td>\n",
       "      <td>0.194444</td>\n",
       "      <td>1.027778</td>\n",
       "      <td>248.083333</td>\n",
       "      <td>0.959722</td>\n",
       "      <td>0.694444</td>\n",
       "      <td>54.736111</td>\n",
       "      <td>150.006944</td>\n",
       "      <td>0.319444</td>\n",
       "    </tr>\n",
       "    <tr>\n",
       "      <th>std</th>\n",
       "      <td>0.614352</td>\n",
       "      <td>16.092051</td>\n",
       "      <td>0.903137</td>\n",
       "      <td>0.955498</td>\n",
       "      <td>0.397154</td>\n",
       "      <td>1.003103</td>\n",
       "      <td>54.027123</td>\n",
       "      <td>1.078805</td>\n",
       "      <td>0.462250</td>\n",
       "      <td>9.738530</td>\n",
       "      <td>22.012233</td>\n",
       "      <td>0.467889</td>\n",
       "    </tr>\n",
       "    <tr>\n",
       "      <th>min</th>\n",
       "      <td>1.000000</td>\n",
       "      <td>94.000000</td>\n",
       "      <td>1.000000</td>\n",
       "      <td>0.000000</td>\n",
       "      <td>0.000000</td>\n",
       "      <td>0.000000</td>\n",
       "      <td>126.000000</td>\n",
       "      <td>0.000000</td>\n",
       "      <td>0.000000</td>\n",
       "      <td>29.000000</td>\n",
       "      <td>96.000000</td>\n",
       "      <td>0.000000</td>\n",
       "    </tr>\n",
       "    <tr>\n",
       "      <th>25%</th>\n",
       "      <td>1.000000</td>\n",
       "      <td>120.000000</td>\n",
       "      <td>3.000000</td>\n",
       "      <td>0.000000</td>\n",
       "      <td>0.000000</td>\n",
       "      <td>0.000000</td>\n",
       "      <td>212.750000</td>\n",
       "      <td>0.000000</td>\n",
       "      <td>0.000000</td>\n",
       "      <td>47.000000</td>\n",
       "      <td>132.000000</td>\n",
       "      <td>0.000000</td>\n",
       "    </tr>\n",
       "    <tr>\n",
       "      <th>50%</th>\n",
       "      <td>1.000000</td>\n",
       "      <td>130.000000</td>\n",
       "      <td>3.000000</td>\n",
       "      <td>0.000000</td>\n",
       "      <td>0.000000</td>\n",
       "      <td>2.000000</td>\n",
       "      <td>244.000000</td>\n",
       "      <td>0.750000</td>\n",
       "      <td>1.000000</td>\n",
       "      <td>55.500000</td>\n",
       "      <td>152.000000</td>\n",
       "      <td>0.000000</td>\n",
       "    </tr>\n",
       "    <tr>\n",
       "      <th>75%</th>\n",
       "      <td>2.000000</td>\n",
       "      <td>140.000000</td>\n",
       "      <td>4.000000</td>\n",
       "      <td>1.000000</td>\n",
       "      <td>0.000000</td>\n",
       "      <td>2.000000</td>\n",
       "      <td>277.000000</td>\n",
       "      <td>1.600000</td>\n",
       "      <td>1.000000</td>\n",
       "      <td>63.000000</td>\n",
       "      <td>168.000000</td>\n",
       "      <td>1.000000</td>\n",
       "    </tr>\n",
       "    <tr>\n",
       "      <th>max</th>\n",
       "      <td>3.000000</td>\n",
       "      <td>180.000000</td>\n",
       "      <td>4.000000</td>\n",
       "      <td>3.000000</td>\n",
       "      <td>1.000000</td>\n",
       "      <td>2.000000</td>\n",
       "      <td>564.000000</td>\n",
       "      <td>6.200000</td>\n",
       "      <td>1.000000</td>\n",
       "      <td>77.000000</td>\n",
       "      <td>202.000000</td>\n",
       "      <td>1.000000</td>\n",
       "    </tr>\n",
       "  </tbody>\n",
       "</table>\n",
       "</div>"
      ],
      "text/plain": [
       "       slope_of_peak_exercise_st_segment  resting_blood_pressure  \\\n",
       "count                         144.000000              144.000000   \n",
       "mean                            1.513889              130.395833   \n",
       "std                             0.614352               16.092051   \n",
       "min                             1.000000               94.000000   \n",
       "25%                             1.000000              120.000000   \n",
       "50%                             1.000000              130.000000   \n",
       "75%                             2.000000              140.000000   \n",
       "max                             3.000000              180.000000   \n",
       "\n",
       "       chest_pain_type  num_major_vessels  \\\n",
       "count       144.000000         144.000000   \n",
       "mean          3.152778           0.694444   \n",
       "std           0.903137           0.955498   \n",
       "min           1.000000           0.000000   \n",
       "25%           3.000000           0.000000   \n",
       "50%           3.000000           0.000000   \n",
       "75%           4.000000           1.000000   \n",
       "max           4.000000           3.000000   \n",
       "\n",
       "       fasting_blood_sugar_gt_120_mg_per_dl  resting_ekg_results  \\\n",
       "count                            144.000000           144.000000   \n",
       "mean                               0.194444             1.027778   \n",
       "std                                0.397154             1.003103   \n",
       "min                                0.000000             0.000000   \n",
       "25%                                0.000000             0.000000   \n",
       "50%                                0.000000             2.000000   \n",
       "75%                                0.000000             2.000000   \n",
       "max                                1.000000             2.000000   \n",
       "\n",
       "       serum_cholesterol_mg_per_dl  oldpeak_eq_st_depression         sex  \\\n",
       "count                   144.000000                144.000000  144.000000   \n",
       "mean                    248.083333                  0.959722    0.694444   \n",
       "std                      54.027123                  1.078805    0.462250   \n",
       "min                     126.000000                  0.000000    0.000000   \n",
       "25%                     212.750000                  0.000000    0.000000   \n",
       "50%                     244.000000                  0.750000    1.000000   \n",
       "75%                     277.000000                  1.600000    1.000000   \n",
       "max                     564.000000                  6.200000    1.000000   \n",
       "\n",
       "              age  max_heart_rate_achieved  exercise_induced_angina  \n",
       "count  144.000000               144.000000               144.000000  \n",
       "mean    54.736111               150.006944                 0.319444  \n",
       "std      9.738530                22.012233                 0.467889  \n",
       "min     29.000000                96.000000                 0.000000  \n",
       "25%     47.000000               132.000000                 0.000000  \n",
       "50%     55.500000               152.000000                 0.000000  \n",
       "75%     63.000000               168.000000                 1.000000  \n",
       "max     77.000000               202.000000                 1.000000  "
      ]
     },
     "execution_count": 5,
     "metadata": {},
     "output_type": "execute_result"
    }
   ],
   "source": [
    "X_train.describe()"
   ]
  },
  {
   "cell_type": "markdown",
   "metadata": {},
   "source": [
    "## Data Preprocessing"
   ]
  },
  {
   "cell_type": "code",
   "execution_count": 6,
   "metadata": {
    "pycharm": {
     "is_executing": false
    },
    "scrolled": false
   },
   "outputs": [],
   "source": [
    "# splitting data into categorical, numerical, and binary columns in order to perform the transformations needed for each set\n",
    "cat_vars = ['thal', 'chest_pain_type', \"slope_of_peak_exercise_st_segment\"]\n",
    "binary_vars = list(['fasting_blood_sugar_gt_120_mg_per_dl', 'sex', 'exercise_induced_angina'])\n",
    "num_vars = list(set(X_train.columns.tolist()) - set(cat_vars) - set(binary_vars))\n",
    "\n",
    "X_train_cat = X_train[cat_vars]\n",
    "X_train_bin = X_train[binary_vars]\n",
    "X_train_num = X_train[num_vars]\n"
   ]
  },
  {
   "cell_type": "code",
   "execution_count": 7,
   "metadata": {
    "pycharm": {
     "is_executing": false
    },
    "scrolled": false
   },
   "outputs": [],
   "source": [
    "\n",
    "# create pipe which hot one encodes categorical variables, standardizes numerical variables, and lets the binary variables passthrough untouched\n",
    "data_pipe = ColumnTransformer([\n",
    "    (\"num\", StandardScaler(), num_vars), \n",
    "    (\"cat\", OneHotEncoder(), cat_vars)\n",
    "], remainder = 'passthrough')\n"
   ]
  },
  {
   "cell_type": "code",
   "execution_count": 8,
   "metadata": {
    "pycharm": {
     "is_executing": false
    }
   },
   "outputs": [
    {
     "data": {
      "text/html": [
       "<div>\n",
       "<style scoped>\n",
       "    .dataframe tbody tr th:only-of-type {\n",
       "        vertical-align: middle;\n",
       "    }\n",
       "\n",
       "    .dataframe tbody tr th {\n",
       "        vertical-align: top;\n",
       "    }\n",
       "\n",
       "    .dataframe thead th {\n",
       "        text-align: right;\n",
       "    }\n",
       "</style>\n",
       "<table border=\"1\" class=\"dataframe\">\n",
       "  <thead>\n",
       "    <tr style=\"text-align: right;\">\n",
       "      <th></th>\n",
       "      <th>resting_ekg_results</th>\n",
       "      <th>serum_cholesterol_mg_per_dl</th>\n",
       "      <th>max_heart_rate_achieved</th>\n",
       "      <th>age</th>\n",
       "      <th>oldpeak_eq_st_depression</th>\n",
       "      <th>resting_blood_pressure</th>\n",
       "      <th>num_major_vessels</th>\n",
       "      <th>thal_fixed_defect</th>\n",
       "      <th>thal_normal</th>\n",
       "      <th>thal_reversible_defect</th>\n",
       "      <th>chest_pain_type_1</th>\n",
       "      <th>chest_pain_type_2</th>\n",
       "      <th>chest_pain_type_3</th>\n",
       "      <th>chest_pain_type_4</th>\n",
       "      <th>slope_of_peak_exercise_st_segment_1</th>\n",
       "      <th>slope_of_peak_exercise_st_segment_2</th>\n",
       "      <th>slope_of_peak_exercise_st_segment_3</th>\n",
       "      <th>fasting_blood_sugar_gt_120_mg_per_dl</th>\n",
       "      <th>sex</th>\n",
       "      <th>exercise_induced_angina</th>\n",
       "    </tr>\n",
       "  </thead>\n",
       "  <tbody>\n",
       "    <tr>\n",
       "      <th>139</th>\n",
       "      <td>0.972598</td>\n",
       "      <td>-0.540189</td>\n",
       "      <td>1.732022</td>\n",
       "      <td>-1.106284</td>\n",
       "      <td>-0.892721</td>\n",
       "      <td>-0.024684</td>\n",
       "      <td>-0.729325</td>\n",
       "      <td>0.0</td>\n",
       "      <td>1.0</td>\n",
       "      <td>0.0</td>\n",
       "      <td>0.0</td>\n",
       "      <td>1.0</td>\n",
       "      <td>0.0</td>\n",
       "      <td>0.0</td>\n",
       "      <td>1.0</td>\n",
       "      <td>0.0</td>\n",
       "      <td>0.0</td>\n",
       "      <td>0.0</td>\n",
       "      <td>1.0</td>\n",
       "      <td>0.0</td>\n",
       "    </tr>\n",
       "    <tr>\n",
       "      <th>0</th>\n",
       "      <td>0.972598</td>\n",
       "      <td>1.112882</td>\n",
       "      <td>0.911440</td>\n",
       "      <td>-1.003241</td>\n",
       "      <td>-0.892721</td>\n",
       "      <td>-0.149403</td>\n",
       "      <td>-0.729325</td>\n",
       "      <td>0.0</td>\n",
       "      <td>1.0</td>\n",
       "      <td>0.0</td>\n",
       "      <td>0.0</td>\n",
       "      <td>1.0</td>\n",
       "      <td>0.0</td>\n",
       "      <td>0.0</td>\n",
       "      <td>1.0</td>\n",
       "      <td>0.0</td>\n",
       "      <td>0.0</td>\n",
       "      <td>0.0</td>\n",
       "      <td>1.0</td>\n",
       "      <td>0.0</td>\n",
       "    </tr>\n",
       "    <tr>\n",
       "      <th>169</th>\n",
       "      <td>0.972598</td>\n",
       "      <td>-0.688779</td>\n",
       "      <td>-0.273844</td>\n",
       "      <td>0.954582</td>\n",
       "      <td>0.781615</td>\n",
       "      <td>-1.271872</td>\n",
       "      <td>-0.729325</td>\n",
       "      <td>0.0</td>\n",
       "      <td>1.0</td>\n",
       "      <td>0.0</td>\n",
       "      <td>1.0</td>\n",
       "      <td>0.0</td>\n",
       "      <td>0.0</td>\n",
       "      <td>0.0</td>\n",
       "      <td>0.0</td>\n",
       "      <td>1.0</td>\n",
       "      <td>0.0</td>\n",
       "      <td>0.0</td>\n",
       "      <td>1.0</td>\n",
       "      <td>1.0</td>\n",
       "    </tr>\n",
       "    <tr>\n",
       "      <th>65</th>\n",
       "      <td>0.972598</td>\n",
       "      <td>0.629962</td>\n",
       "      <td>0.273211</td>\n",
       "      <td>-2.033674</td>\n",
       "      <td>-0.892721</td>\n",
       "      <td>-0.274121</td>\n",
       "      <td>-0.729325</td>\n",
       "      <td>0.0</td>\n",
       "      <td>0.0</td>\n",
       "      <td>1.0</td>\n",
       "      <td>0.0</td>\n",
       "      <td>0.0</td>\n",
       "      <td>0.0</td>\n",
       "      <td>1.0</td>\n",
       "      <td>1.0</td>\n",
       "      <td>0.0</td>\n",
       "      <td>0.0</td>\n",
       "      <td>0.0</td>\n",
       "      <td>1.0</td>\n",
       "      <td>1.0</td>\n",
       "    </tr>\n",
       "    <tr>\n",
       "      <th>98</th>\n",
       "      <td>-1.028175</td>\n",
       "      <td>0.388503</td>\n",
       "      <td>-0.091492</td>\n",
       "      <td>1.057625</td>\n",
       "      <td>-0.148571</td>\n",
       "      <td>1.534301</td>\n",
       "      <td>-0.729325</td>\n",
       "      <td>0.0</td>\n",
       "      <td>1.0</td>\n",
       "      <td>0.0</td>\n",
       "      <td>0.0</td>\n",
       "      <td>0.0</td>\n",
       "      <td>1.0</td>\n",
       "      <td>0.0</td>\n",
       "      <td>1.0</td>\n",
       "      <td>0.0</td>\n",
       "      <td>0.0</td>\n",
       "      <td>0.0</td>\n",
       "      <td>0.0</td>\n",
       "      <td>0.0</td>\n",
       "    </tr>\n",
       "  </tbody>\n",
       "</table>\n",
       "</div>"
      ],
      "text/plain": [
       "     resting_ekg_results  serum_cholesterol_mg_per_dl  \\\n",
       "139             0.972598                    -0.540189   \n",
       "0               0.972598                     1.112882   \n",
       "169             0.972598                    -0.688779   \n",
       "65              0.972598                     0.629962   \n",
       "98             -1.028175                     0.388503   \n",
       "\n",
       "     max_heart_rate_achieved       age  oldpeak_eq_st_depression  \\\n",
       "139                 1.732022 -1.106284                 -0.892721   \n",
       "0                   0.911440 -1.003241                 -0.892721   \n",
       "169                -0.273844  0.954582                  0.781615   \n",
       "65                  0.273211 -2.033674                 -0.892721   \n",
       "98                 -0.091492  1.057625                 -0.148571   \n",
       "\n",
       "     resting_blood_pressure  num_major_vessels  thal_fixed_defect  \\\n",
       "139               -0.024684          -0.729325                0.0   \n",
       "0                 -0.149403          -0.729325                0.0   \n",
       "169               -1.271872          -0.729325                0.0   \n",
       "65                -0.274121          -0.729325                0.0   \n",
       "98                 1.534301          -0.729325                0.0   \n",
       "\n",
       "     thal_normal  thal_reversible_defect  chest_pain_type_1  \\\n",
       "139          1.0                     0.0                0.0   \n",
       "0            1.0                     0.0                0.0   \n",
       "169          1.0                     0.0                1.0   \n",
       "65           0.0                     1.0                0.0   \n",
       "98           1.0                     0.0                0.0   \n",
       "\n",
       "     chest_pain_type_2  chest_pain_type_3  chest_pain_type_4  \\\n",
       "139                1.0                0.0                0.0   \n",
       "0                  1.0                0.0                0.0   \n",
       "169                0.0                0.0                0.0   \n",
       "65                 0.0                0.0                1.0   \n",
       "98                 0.0                1.0                0.0   \n",
       "\n",
       "     slope_of_peak_exercise_st_segment_1  slope_of_peak_exercise_st_segment_2  \\\n",
       "139                                  1.0                                  0.0   \n",
       "0                                    1.0                                  0.0   \n",
       "169                                  0.0                                  1.0   \n",
       "65                                   1.0                                  0.0   \n",
       "98                                   1.0                                  0.0   \n",
       "\n",
       "     slope_of_peak_exercise_st_segment_3  \\\n",
       "139                                  0.0   \n",
       "0                                    0.0   \n",
       "169                                  0.0   \n",
       "65                                   0.0   \n",
       "98                                   0.0   \n",
       "\n",
       "     fasting_blood_sugar_gt_120_mg_per_dl  sex  exercise_induced_angina  \n",
       "139                                   0.0  1.0                      0.0  \n",
       "0                                     0.0  1.0                      0.0  \n",
       "169                                   0.0  1.0                      1.0  \n",
       "65                                    0.0  1.0                      1.0  \n",
       "98                                    0.0  0.0                      0.0  "
      ]
     },
     "execution_count": 8,
     "metadata": {},
     "output_type": "execute_result"
    },
    {
     "data": {
      "text/plain": [
       "(144, 20)"
      ]
     },
     "execution_count": 8,
     "metadata": {},
     "output_type": "execute_result"
    }
   ],
   "source": [
    "\n",
    "#fit the pipe and transform the data\n",
    "X_temp = data_pipe.fit_transform(X_train)\n",
    "X_temp = pd.DataFrame(X_temp)\n",
    "\n",
    "# add names of the variables back into data since they were removed by the pipe process for model assessment\n",
    "col_names = num_vars + list(data_pipe.named_transformers_['cat'].get_feature_names(cat_vars)) +  binary_vars\n",
    "X_temp.columns = col_names\n",
    "\n",
    "# add back indices\n",
    "X_temp.index = X_train.index\n",
    "\n",
    "# check data, all looks good\n",
    "X_temp.head()\n",
    "X_temp.shape\n",
    "\n",
    "# Transform test data for model assessment\n",
    "X_test_tr = data_pipe.transform(X_test)\n"
   ]
  },
  {
   "cell_type": "markdown",
   "metadata": {},
   "source": [
    "## Fitting Logistic Regression Model"
   ]
  },
  {
   "cell_type": "code",
   "execution_count": 9,
   "metadata": {
    "pycharm": {
     "is_executing": false
    },
    "scrolled": false
   },
   "outputs": [
    {
     "data": {
      "text/plain": [
       "LogisticRegression(C=1.0, class_weight=None, dual=False, fit_intercept=True,\n",
       "                   intercept_scaling=1, l1_ratio=None, max_iter=100,\n",
       "                   multi_class='warn', n_jobs=None, penalty='l2',\n",
       "                   random_state=None, solver='warn', tol=0.0001, verbose=0,\n",
       "                   warm_start=False)"
      ]
     },
     "execution_count": 9,
     "metadata": {},
     "output_type": "execute_result"
    },
    {
     "data": {
      "text/plain": [
       "'l2'"
      ]
     },
     "execution_count": 9,
     "metadata": {},
     "output_type": "execute_result"
    },
    {
     "data": {
      "text/html": [
       "<div>\n",
       "<style scoped>\n",
       "    .dataframe tbody tr th:only-of-type {\n",
       "        vertical-align: middle;\n",
       "    }\n",
       "\n",
       "    .dataframe tbody tr th {\n",
       "        vertical-align: top;\n",
       "    }\n",
       "\n",
       "    .dataframe thead th {\n",
       "        text-align: right;\n",
       "    }\n",
       "</style>\n",
       "<table border=\"1\" class=\"dataframe\">\n",
       "  <thead>\n",
       "    <tr style=\"text-align: right;\">\n",
       "      <th></th>\n",
       "      <th>0</th>\n",
       "      <th>1</th>\n",
       "    </tr>\n",
       "  </thead>\n",
       "  <tbody>\n",
       "    <tr>\n",
       "      <th>0</th>\n",
       "      <td>0.890792</td>\n",
       "      <td>0.109208</td>\n",
       "    </tr>\n",
       "    <tr>\n",
       "      <th>1</th>\n",
       "      <td>0.824240</td>\n",
       "      <td>0.175760</td>\n",
       "    </tr>\n",
       "    <tr>\n",
       "      <th>2</th>\n",
       "      <td>0.730480</td>\n",
       "      <td>0.269520</td>\n",
       "    </tr>\n",
       "    <tr>\n",
       "      <th>3</th>\n",
       "      <td>0.150637</td>\n",
       "      <td>0.849363</td>\n",
       "    </tr>\n",
       "    <tr>\n",
       "      <th>4</th>\n",
       "      <td>0.961803</td>\n",
       "      <td>0.038197</td>\n",
       "    </tr>\n",
       "  </tbody>\n",
       "</table>\n",
       "</div>"
      ],
      "text/plain": [
       "          0         1\n",
       "0  0.890792  0.109208\n",
       "1  0.824240  0.175760\n",
       "2  0.730480  0.269520\n",
       "3  0.150637  0.849363\n",
       "4  0.961803  0.038197"
      ]
     },
     "execution_count": 9,
     "metadata": {},
     "output_type": "execute_result"
    },
    {
     "data": {
      "text/html": [
       "<div>\n",
       "<style scoped>\n",
       "    .dataframe tbody tr th:only-of-type {\n",
       "        vertical-align: middle;\n",
       "    }\n",
       "\n",
       "    .dataframe tbody tr th {\n",
       "        vertical-align: top;\n",
       "    }\n",
       "\n",
       "    .dataframe thead th {\n",
       "        text-align: right;\n",
       "    }\n",
       "</style>\n",
       "<table border=\"1\" class=\"dataframe\">\n",
       "  <thead>\n",
       "    <tr style=\"text-align: right;\">\n",
       "      <th></th>\n",
       "      <th>heart_disease_present</th>\n",
       "    </tr>\n",
       "  </thead>\n",
       "  <tbody>\n",
       "    <tr>\n",
       "      <th>139</th>\n",
       "      <td>0</td>\n",
       "    </tr>\n",
       "    <tr>\n",
       "      <th>0</th>\n",
       "      <td>0</td>\n",
       "    </tr>\n",
       "    <tr>\n",
       "      <th>169</th>\n",
       "      <td>0</td>\n",
       "    </tr>\n",
       "    <tr>\n",
       "      <th>65</th>\n",
       "      <td>1</td>\n",
       "    </tr>\n",
       "    <tr>\n",
       "      <th>98</th>\n",
       "      <td>0</td>\n",
       "    </tr>\n",
       "  </tbody>\n",
       "</table>\n",
       "</div>"
      ],
      "text/plain": [
       "     heart_disease_present\n",
       "139                      0\n",
       "0                        0\n",
       "169                      0\n",
       "65                       1\n",
       "98                       0"
      ]
     },
     "execution_count": 9,
     "metadata": {},
     "output_type": "execute_result"
    }
   ],
   "source": [
    "# Logit function from SKLEARN using l2 penalty\n",
    "logit = LogisticRegression()\n",
    "logit.fit(X_temp, y_train)\n",
    "logit.penalty\n",
    "\n",
    "# train_preds = logit.predict(X_temp)\n",
    "preds = cross_val_predict(logit, X_temp, y_train, cv = 10)\n",
    "\n",
    "pd.DataFrame(logit.predict_proba(X_temp)).head()\n",
    "y_train.head()"
   ]
  },
  {
   "cell_type": "code",
   "execution_count": 10,
   "metadata": {
    "pycharm": {
     "is_executing": false
    }
   },
   "outputs": [
    {
     "name": "stdout",
     "output_type": "stream",
     "text": [
      "Optimization terminated successfully.\n",
      "         Current function value: 0.343667\n",
      "         Iterations 8\n"
     ]
    },
    {
     "name": "stderr",
     "output_type": "stream",
     "text": [
      "C:\\Users\\Tony\\Anaconda3\\lib\\site-packages\\statsmodels\\base\\model.py:1286: RuntimeWarning: invalid value encountered in sqrt\n",
      "  bse_ = np.sqrt(np.diag(self.cov_params()))\n",
      "C:\\Users\\Tony\\Anaconda3\\lib\\site-packages\\scipy\\stats\\_distn_infrastructure.py:877: RuntimeWarning: invalid value encountered in greater\n",
      "  return (self.a < x) & (x < self.b)\n",
      "C:\\Users\\Tony\\Anaconda3\\lib\\site-packages\\scipy\\stats\\_distn_infrastructure.py:877: RuntimeWarning: invalid value encountered in less\n",
      "  return (self.a < x) & (x < self.b)\n",
      "C:\\Users\\Tony\\Anaconda3\\lib\\site-packages\\scipy\\stats\\_distn_infrastructure.py:1831: RuntimeWarning: invalid value encountered in less_equal\n",
      "  cond2 = cond0 & (x <= self.a)\n"
     ]
    },
    {
     "data": {
      "text/html": [
       "<table class=\"simpletable\">\n",
       "<caption>Logit Regression Results</caption>\n",
       "<tr>\n",
       "  <th>Dep. Variable:</th>   <td>heart_disease_present</td> <th>  No. Observations:  </th>  <td>   144</td>  \n",
       "</tr>\n",
       "<tr>\n",
       "  <th>Model:</th>                   <td>Logit</td>         <th>  Df Residuals:      </th>  <td>   126</td>  \n",
       "</tr>\n",
       "<tr>\n",
       "  <th>Method:</th>                   <td>MLE</td>          <th>  Df Model:          </th>  <td>    17</td>  \n",
       "</tr>\n",
       "<tr>\n",
       "  <th>Date:</th>              <td>Fri, 01 Nov 2019</td>    <th>  Pseudo R-squ.:     </th>  <td>0.4997</td>  \n",
       "</tr>\n",
       "<tr>\n",
       "  <th>Time:</th>                  <td>16:05:51</td>        <th>  Log-Likelihood:    </th> <td> -49.488</td> \n",
       "</tr>\n",
       "<tr>\n",
       "  <th>converged:</th>               <td>True</td>          <th>  LL-Null:           </th> <td> -98.922</td> \n",
       "</tr>\n",
       "<tr>\n",
       "  <th>Covariance Type:</th>       <td>nonrobust</td>       <th>  LLR p-value:       </th> <td>1.441e-13</td>\n",
       "</tr>\n",
       "</table>\n",
       "<table class=\"simpletable\">\n",
       "<tr>\n",
       "                    <td></td>                      <th>coef</th>     <th>std err</th>      <th>z</th>      <th>P>|z|</th>  <th>[0.025</th>    <th>0.975]</th>  \n",
       "</tr>\n",
       "<tr>\n",
       "  <th>resting_ekg_results</th>                  <td>    0.5356</td> <td>    0.293</td> <td>    1.830</td> <td> 0.067</td> <td>   -0.038</td> <td>    1.109</td>\n",
       "</tr>\n",
       "<tr>\n",
       "  <th>serum_cholesterol_mg_per_dl</th>          <td>    0.3120</td> <td>    0.271</td> <td>    1.151</td> <td> 0.250</td> <td>   -0.220</td> <td>    0.844</td>\n",
       "</tr>\n",
       "<tr>\n",
       "  <th>max_heart_rate_achieved</th>              <td>   -0.4296</td> <td>    0.364</td> <td>   -1.179</td> <td> 0.238</td> <td>   -1.144</td> <td>    0.285</td>\n",
       "</tr>\n",
       "<tr>\n",
       "  <th>age</th>                                  <td>   -0.1919</td> <td>    0.327</td> <td>   -0.586</td> <td> 0.558</td> <td>   -0.833</td> <td>    0.449</td>\n",
       "</tr>\n",
       "<tr>\n",
       "  <th>oldpeak_eq_st_depression</th>             <td>    0.3793</td> <td>    0.413</td> <td>    0.918</td> <td> 0.359</td> <td>   -0.431</td> <td>    1.189</td>\n",
       "</tr>\n",
       "<tr>\n",
       "  <th>resting_blood_pressure</th>               <td>    0.5001</td> <td>    0.314</td> <td>    1.590</td> <td> 0.112</td> <td>   -0.116</td> <td>    1.116</td>\n",
       "</tr>\n",
       "<tr>\n",
       "  <th>num_major_vessels</th>                    <td>    0.9659</td> <td>    0.353</td> <td>    2.737</td> <td> 0.006</td> <td>    0.274</td> <td>    1.658</td>\n",
       "</tr>\n",
       "<tr>\n",
       "  <th>thal_fixed_defect</th>                    <td>   -1.0165</td> <td>      nan</td> <td>      nan</td> <td>   nan</td> <td>      nan</td> <td>      nan</td>\n",
       "</tr>\n",
       "<tr>\n",
       "  <th>thal_normal</th>                          <td>   -0.9518</td> <td>      nan</td> <td>      nan</td> <td>   nan</td> <td>      nan</td> <td>      nan</td>\n",
       "</tr>\n",
       "<tr>\n",
       "  <th>thal_reversible_defect</th>               <td>    0.6478</td> <td>      nan</td> <td>      nan</td> <td>   nan</td> <td>      nan</td> <td>      nan</td>\n",
       "</tr>\n",
       "<tr>\n",
       "  <th>chest_pain_type_1</th>                    <td>   -1.7114</td> <td>      nan</td> <td>      nan</td> <td>   nan</td> <td>      nan</td> <td>      nan</td>\n",
       "</tr>\n",
       "<tr>\n",
       "  <th>chest_pain_type_2</th>                    <td>   -0.3325</td> <td>      nan</td> <td>      nan</td> <td>   nan</td> <td>      nan</td> <td>      nan</td>\n",
       "</tr>\n",
       "<tr>\n",
       "  <th>chest_pain_type_3</th>                    <td>   -0.9340</td> <td>      nan</td> <td>      nan</td> <td>   nan</td> <td>      nan</td> <td>      nan</td>\n",
       "</tr>\n",
       "<tr>\n",
       "  <th>chest_pain_type_4</th>                    <td>    0.4615</td> <td>      nan</td> <td>      nan</td> <td>   nan</td> <td>      nan</td> <td>      nan</td>\n",
       "</tr>\n",
       "<tr>\n",
       "  <th>slope_of_peak_exercise_st_segment_1</th>  <td>   -1.3761</td> <td>      nan</td> <td>      nan</td> <td>   nan</td> <td>      nan</td> <td>      nan</td>\n",
       "</tr>\n",
       "<tr>\n",
       "  <th>slope_of_peak_exercise_st_segment_2</th>  <td>   -0.5926</td> <td>      nan</td> <td>      nan</td> <td>   nan</td> <td>      nan</td> <td>      nan</td>\n",
       "</tr>\n",
       "<tr>\n",
       "  <th>slope_of_peak_exercise_st_segment_3</th>  <td>    0.1357</td> <td>      nan</td> <td>      nan</td> <td>   nan</td> <td>      nan</td> <td>      nan</td>\n",
       "</tr>\n",
       "<tr>\n",
       "  <th>fasting_blood_sugar_gt_120_mg_per_dl</th> <td>   -0.6426</td> <td>    0.838</td> <td>   -0.767</td> <td> 0.443</td> <td>   -2.284</td> <td>    0.999</td>\n",
       "</tr>\n",
       "<tr>\n",
       "  <th>sex</th>                                  <td>    1.8535</td> <td>    0.790</td> <td>    2.346</td> <td> 0.019</td> <td>    0.305</td> <td>    3.402</td>\n",
       "</tr>\n",
       "<tr>\n",
       "  <th>exercise_induced_angina</th>              <td>    0.7342</td> <td>    0.628</td> <td>    1.170</td> <td> 0.242</td> <td>   -0.496</td> <td>    1.964</td>\n",
       "</tr>\n",
       "</table>"
      ],
      "text/plain": [
       "<class 'statsmodels.iolib.summary.Summary'>\n",
       "\"\"\"\n",
       "                             Logit Regression Results                            \n",
       "=================================================================================\n",
       "Dep. Variable:     heart_disease_present   No. Observations:                  144\n",
       "Model:                             Logit   Df Residuals:                      126\n",
       "Method:                              MLE   Df Model:                           17\n",
       "Date:                   Fri, 01 Nov 2019   Pseudo R-squ.:                  0.4997\n",
       "Time:                           16:05:51   Log-Likelihood:                -49.488\n",
       "converged:                          True   LL-Null:                       -98.922\n",
       "Covariance Type:               nonrobust   LLR p-value:                 1.441e-13\n",
       "========================================================================================================\n",
       "                                           coef    std err          z      P>|z|      [0.025      0.975]\n",
       "--------------------------------------------------------------------------------------------------------\n",
       "resting_ekg_results                      0.5356      0.293      1.830      0.067      -0.038       1.109\n",
       "serum_cholesterol_mg_per_dl              0.3120      0.271      1.151      0.250      -0.220       0.844\n",
       "max_heart_rate_achieved                 -0.4296      0.364     -1.179      0.238      -1.144       0.285\n",
       "age                                     -0.1919      0.327     -0.586      0.558      -0.833       0.449\n",
       "oldpeak_eq_st_depression                 0.3793      0.413      0.918      0.359      -0.431       1.189\n",
       "resting_blood_pressure                   0.5001      0.314      1.590      0.112      -0.116       1.116\n",
       "num_major_vessels                        0.9659      0.353      2.737      0.006       0.274       1.658\n",
       "thal_fixed_defect                       -1.0165        nan        nan        nan         nan         nan\n",
       "thal_normal                             -0.9518        nan        nan        nan         nan         nan\n",
       "thal_reversible_defect                   0.6478        nan        nan        nan         nan         nan\n",
       "chest_pain_type_1                       -1.7114        nan        nan        nan         nan         nan\n",
       "chest_pain_type_2                       -0.3325        nan        nan        nan         nan         nan\n",
       "chest_pain_type_3                       -0.9340        nan        nan        nan         nan         nan\n",
       "chest_pain_type_4                        0.4615        nan        nan        nan         nan         nan\n",
       "slope_of_peak_exercise_st_segment_1     -1.3761        nan        nan        nan         nan         nan\n",
       "slope_of_peak_exercise_st_segment_2     -0.5926        nan        nan        nan         nan         nan\n",
       "slope_of_peak_exercise_st_segment_3      0.1357        nan        nan        nan         nan         nan\n",
       "fasting_blood_sugar_gt_120_mg_per_dl    -0.6426      0.838     -0.767      0.443      -2.284       0.999\n",
       "sex                                      1.8535      0.790      2.346      0.019       0.305       3.402\n",
       "exercise_induced_angina                  0.7342      0.628      1.170      0.242      -0.496       1.964\n",
       "========================================================================================================\n",
       "\"\"\""
      ]
     },
     "execution_count": 10,
     "metadata": {},
     "output_type": "execute_result"
    }
   ],
   "source": [
    "sm.Logit(y_train, X_temp).fit().summary()"
   ]
  },
  {
   "cell_type": "code",
   "execution_count": 11,
   "metadata": {
    "pycharm": {
     "is_executing": false
    },
    "scrolled": false
   },
   "outputs": [
    {
     "name": "stdout",
     "output_type": "stream",
     "text": [
      "In-Sample Confusion Matrix:\n"
     ]
    },
    {
     "data": {
      "text/html": [
       "<div>\n",
       "<style scoped>\n",
       "    .dataframe tbody tr th:only-of-type {\n",
       "        vertical-align: middle;\n",
       "    }\n",
       "\n",
       "    .dataframe tbody tr th {\n",
       "        vertical-align: top;\n",
       "    }\n",
       "\n",
       "    .dataframe thead th {\n",
       "        text-align: right;\n",
       "    }\n",
       "</style>\n",
       "<table border=\"1\" class=\"dataframe\">\n",
       "  <thead>\n",
       "    <tr style=\"text-align: right;\">\n",
       "      <th></th>\n",
       "      <th>0</th>\n",
       "      <th>1</th>\n",
       "    </tr>\n",
       "  </thead>\n",
       "  <tbody>\n",
       "    <tr>\n",
       "      <th>0</th>\n",
       "      <td>70</td>\n",
       "      <td>10</td>\n",
       "    </tr>\n",
       "    <tr>\n",
       "      <th>1</th>\n",
       "      <td>16</td>\n",
       "      <td>48</td>\n",
       "    </tr>\n",
       "  </tbody>\n",
       "</table>\n",
       "</div>"
      ],
      "text/plain": [
       "    0   1\n",
       "0  70  10\n",
       "1  16  48"
      ]
     },
     "execution_count": 11,
     "metadata": {},
     "output_type": "execute_result"
    },
    {
     "name": "stdout",
     "output_type": "stream",
     "text": [
      "In-Sample Precision Score: 0.8275862068965517 \n",
      "In-Sample Sensitivity: 0.75\n",
      "Out of Sample Confusion Matrix:\n"
     ]
    },
    {
     "data": {
      "text/html": [
       "<div>\n",
       "<style scoped>\n",
       "    .dataframe tbody tr th:only-of-type {\n",
       "        vertical-align: middle;\n",
       "    }\n",
       "\n",
       "    .dataframe tbody tr th {\n",
       "        vertical-align: top;\n",
       "    }\n",
       "\n",
       "    .dataframe thead th {\n",
       "        text-align: right;\n",
       "    }\n",
       "</style>\n",
       "<table border=\"1\" class=\"dataframe\">\n",
       "  <thead>\n",
       "    <tr style=\"text-align: right;\">\n",
       "      <th></th>\n",
       "      <th>0</th>\n",
       "      <th>1</th>\n",
       "    </tr>\n",
       "  </thead>\n",
       "  <tbody>\n",
       "    <tr>\n",
       "      <th>0</th>\n",
       "      <td>16</td>\n",
       "      <td>4</td>\n",
       "    </tr>\n",
       "    <tr>\n",
       "      <th>1</th>\n",
       "      <td>0</td>\n",
       "      <td>16</td>\n",
       "    </tr>\n",
       "  </tbody>\n",
       "</table>\n",
       "</div>"
      ],
      "text/plain": [
       "    0   1\n",
       "0  16   4\n",
       "1   0  16"
      ]
     },
     "execution_count": 11,
     "metadata": {},
     "output_type": "execute_result"
    },
    {
     "name": "stdout",
     "output_type": "stream",
     "text": [
      "Out of Sample Precision Score: 0.8 \n",
      "Out of Sample Sensitivity: 1.0\n"
     ]
    }
   ],
   "source": [
    "\n",
    "#Confusion Matrix, doesnt look too bad. Pretty high high number of FNs. Nearly 1/4 of positives classified as negatives \n",
    "print('In-Sample Confusion Matrix:') \n",
    "pd.DataFrame(confusion_matrix(y_train, preds)) \n",
    "\n",
    "# Precision and Sensitivity scores. Sensitivity shows result of high number of FNs\n",
    "print(\n",
    "    \"In-Sample Precision Score:\", precision_score(y_train, preds), \"\\n\"\n",
    "    \"In-Sample Sensitivity:\", recall_score(y_train, preds)\n",
    ")\n",
    "\n",
    "logit_test_preds = logit.predict(X_test_tr)\n",
    "\n",
    "print(\"Out of Sample Confusion Matrix:\")\n",
    "pd.DataFrame(confusion_matrix(y_test, logit_test_preds))\n",
    "\n",
    "print(\n",
    "    \"Out of Sample Precision Score:\", precision_score(y_test, logit_test_preds), \"\\n\"\n",
    "    \"Out of Sample Sensitivity:\", recall_score(y_test, logit_test_preds)\n",
    ")\n",
    "\n",
    "# Performs very well out of sample. Makes no misclassification mistakes when it comes to positives but does have a few false positives"
   ]
  },
  {
   "cell_type": "code",
   "execution_count": 12,
   "metadata": {
    "pycharm": {
     "is_executing": false
    }
   },
   "outputs": [
    {
     "data": {
      "text/plain": [
       "<Figure size 576x432 with 0 Axes>"
      ]
     },
     "execution_count": 12,
     "metadata": {},
     "output_type": "execute_result"
    },
    {
     "data": {
      "text/plain": [
       "0.921875"
      ]
     },
     "execution_count": 12,
     "metadata": {},
     "output_type": "execute_result"
    },
    {
     "data": {
      "image/png": "[encoded data removed]",
      "text/plain": [
       "<Figure size 576x432 with 1 Axes>"
      ]
     },
     "metadata": {
      "needs_background": "light"
     },
     "output_type": "display_data"
    }
   ],
   "source": [
    "\n",
    "\n",
    "# Want to see the ROC plots and AUC scores to compare classifiers. \n",
    "\n",
    "scores = logit.decision_function(X_temp)\n",
    "\n",
    "fpr, tpr, thresholds = roc_curve(y_train, scores)\n",
    "\n",
    "def plot_roc_curve(fpr, tpr, color = \"#1f77b4\", label = None, plt_title = \"Receiver Operating Curve\"):\n",
    "    plt.plot(fpr, tpr, linewidth = 2, label = label, color = color)\n",
    "    plt.plot([0,1], [0,1], \"k--\")\n",
    "    plt.grid(True)\n",
    "    plt.xlabel(\"False Positive Rate\")\n",
    "    plt.ylabel(\"True Positive Rate\")\n",
    "    plt.title(plt_title)\n",
    "    \n",
    "    \n",
    "plt.figure(figsize = (8,6))\n",
    "plot_roc_curve(fpr, tpr)\n",
    "roc_auc_score(y_train, scores)\n",
    "# ROC curve for the default logit function looks ok but could be improved"
   ]
  },
  {
   "cell_type": "code",
   "execution_count": 13,
   "metadata": {
    "pycharm": {
     "is_executing": false
    },
    "scrolled": false
   },
   "outputs": [
    {
     "name": "stdout",
     "output_type": "stream",
     "text": [
      "    0   1\n",
      "0  67  13\n",
      "1  16  48\n",
      "AUC Score: 0.9138671875\n"
     ]
    },
    {
     "data": {
      "image/png": "[encoded data removed]",
      "text/plain": [
       "<Figure size 576x432 with 1 Axes>"
      ]
     },
     "metadata": {
      "needs_background": "light"
     },
     "output_type": "display_data"
    }
   ],
   "source": [
    "# logit function using l1 penalty\n",
    "logit_l1 = LogisticRegression(penalty = \"l1\")\n",
    "\n",
    "l1_preds = cross_val_predict(logit_l1, X_temp, y_train, cv = 10)\n",
    "\n",
    "#confusion matrix shows somehow it performs worse than logit with l2 penalty\n",
    "print(pd.DataFrame(confusion_matrix(y_train, l1_preds)))\n",
    "\n",
    "logit_l1.fit(X_temp, y_train)\n",
    "l1_scores = logit_l1.decision_function(X_temp)\n",
    "print(\"AUC Score:\", roc_auc_score(y_train, l1_scores) )\n",
    "\n",
    "fpr_l1, tpr_l1, thresholds = roc_curve(y_train, l1_scores)\n",
    "\n",
    "\n",
    "plt.figure(figsize = (8,6))\n",
    "plt.plot(fpr, tpr, \"b--\", label = \"Logit with L2 Penalty\")\n",
    "plot_roc_curve(fpr_l1, tpr_l1, color = \"m\",  label = \"Logit with L1 Penalty\")\n",
    "plt.legend(loc = \"lower right\");\n",
    "\n",
    "#close but performs worse, lower AUC score"
   ]
  },
  {
   "cell_type": "code",
   "execution_count": 14,
   "metadata": {
    "pycharm": {
     "is_executing": false
    }
   },
   "outputs": [
    {
     "name": "stdout",
     "output_type": "stream",
     "text": [
      "[[69 11]\n",
      " [16 48]]\n",
      "AUC Score: 0.9230468749999999\n",
      "Precision Score: 0.8421052631578947 \n",
      "Sensitivity Score: 1.0\n"
     ]
    },
    {
     "data": {
      "image/png": "[encoded data removed]",
      "text/plain": [
       "<Figure size 576x432 with 1 Axes>"
      ]
     },
     "metadata": {
      "needs_background": "light"
     },
     "output_type": "display_data"
    }
   ],
   "source": [
    "# Try Logit with elastic net penalty (combo of L1 and L2)\n",
    "logit_en = LogisticRegression(penalty = \"elasticnet\", solver = \"saga\", l1_ratio = 0.1, C = 1.5)\n",
    "\n",
    "en_preds = cross_val_predict(logit_en, X_temp, y_train, cv = 10)\n",
    "\n",
    "print(confusion_matrix(y_train, en_preds))\n",
    "\n",
    "logit_en.fit(X_temp, y_train)\n",
    "en_scores = logit_en.decision_function(X_temp)\n",
    "print(\"AUC Score:\", roc_auc_score(y_train, en_scores))\n",
    "\n",
    "\n",
    "\n",
    "plt.figure(figsize = (8,6))\n",
    "plt.plot(fpr, tpr, \"b--\", label = \"Logit with L2 Penalty\")\n",
    "plot_roc_curve(fpr_l1, tpr_l1, color = \"m\",  label = \"Logit with ElasticNet Penalty\")\n",
    "plt.legend(loc = \"lower right\");\n",
    "\n",
    "\n",
    "logiten_preds = logit_en.predict(X_test_tr)\n",
    "pd.DataFrame(confusion_matrix(y_test, logiten_preds))\n",
    "\n",
    "print(\"Precision Score:\", precision_score(y_test, logiten_preds), \"\\n\"\n",
    "      \"Sensitivity Score:\", recall_score(y_test, logiten_preds));\n",
    "\n",
    "#Performs better than simple logit"
   ]
  },
  {
   "cell_type": "code",
   "execution_count": null,
   "metadata": {
    "pycharm": {
     "is_executing": false
    }
   },
   "outputs": [],
   "source": []
  },
  {
   "cell_type": "code",
   "execution_count": null,
   "metadata": {
    "pycharm": {
     "is_executing": false
    }
   },
   "outputs": [],
   "source": [
    "# train logisitc regression model with elastic net regularization on whole dataset to make predictions\n",
    "\n",
    "final_logit_en = LogisticRegression(penalty = \"elasticnet\", solver = \"saga\", l1_ratio = 0.1, C = 1.5)\n",
    "final_logit_en.fit(X_temp, y_train)\n",
    "\n",
    "# make prediction on the new data and output predictions into csv\n",
    "# final_test = data_pipe.transform(test_data)\n",
    "\n",
    "# final_preds = final_logit_en.predict_proba(final_test)\n",
    "# hd = pd.DataFrame(final_preds[:,1])\n",
    "# hd.columns = ['heart_disease_present']\n",
    "\n",
    "# output = pd.concat([pd.DataFrame(patient_id_test), hd], axis = 1)\n",
    "# output.head()\n",
    "\n",
    "# output.to_csv('submission_logit_en.csv', index = False)"
   ]
  },
  {
   "cell_type": "code",
   "execution_count": 16,
   "metadata": {
    "pycharm": {
     "is_executing": false
    }
   },
   "outputs": [
    {
     "data": {
      "text/html": [
       "<div>\n",
       "<style scoped>\n",
       "    .dataframe tbody tr th:only-of-type {\n",
       "        vertical-align: middle;\n",
       "    }\n",
       "\n",
       "    .dataframe tbody tr th {\n",
       "        vertical-align: top;\n",
       "    }\n",
       "\n",
       "    .dataframe thead th {\n",
       "        text-align: right;\n",
       "    }\n",
       "</style>\n",
       "<table border=\"1\" class=\"dataframe\">\n",
       "  <thead>\n",
       "    <tr style=\"text-align: right;\">\n",
       "      <th></th>\n",
       "      <th>heart_disease_present</th>\n",
       "    </tr>\n",
       "  </thead>\n",
       "  <tbody>\n",
       "    <tr>\n",
       "      <th>0</th>\n",
       "      <td>0.689240</td>\n",
       "    </tr>\n",
       "    <tr>\n",
       "      <th>1</th>\n",
       "      <td>0.081195</td>\n",
       "    </tr>\n",
       "    <tr>\n",
       "      <th>2</th>\n",
       "      <td>0.954422</td>\n",
       "    </tr>\n",
       "    <tr>\n",
       "      <th>3</th>\n",
       "      <td>0.028220</td>\n",
       "    </tr>\n",
       "    <tr>\n",
       "      <th>4</th>\n",
       "      <td>0.925373</td>\n",
       "    </tr>\n",
       "  </tbody>\n",
       "</table>\n",
       "</div>"
      ],
      "text/plain": [
       "   heart_disease_present\n",
       "0               0.689240\n",
       "1               0.081195\n",
       "2               0.954422\n",
       "3               0.028220\n",
       "4               0.925373"
      ]
     },
     "execution_count": 16,
     "metadata": {},
     "output_type": "execute_result"
    },
    {
     "data": {
      "text/plain": [
       "0    olalu7\n",
       "1    z9n6mx\n",
       "2    5k4413\n",
       "3    mrg7q5\n",
       "4    uki4do\n",
       "Name: patient_id, dtype: object"
      ]
     },
     "execution_count": 16,
     "metadata": {},
     "output_type": "execute_result"
    },
    {
     "data": {
      "text/html": [
       "<div>\n",
       "<style scoped>\n",
       "    .dataframe tbody tr th:only-of-type {\n",
       "        vertical-align: middle;\n",
       "    }\n",
       "\n",
       "    .dataframe tbody tr th {\n",
       "        vertical-align: top;\n",
       "    }\n",
       "\n",
       "    .dataframe thead th {\n",
       "        text-align: right;\n",
       "    }\n",
       "</style>\n",
       "<table border=\"1\" class=\"dataframe\">\n",
       "  <thead>\n",
       "    <tr style=\"text-align: right;\">\n",
       "      <th></th>\n",
       "      <th>patient_id</th>\n",
       "      <th>heart_disease_present</th>\n",
       "    </tr>\n",
       "  </thead>\n",
       "  <tbody>\n",
       "    <tr>\n",
       "      <th>0</th>\n",
       "      <td>olalu7</td>\n",
       "      <td>0.689240</td>\n",
       "    </tr>\n",
       "    <tr>\n",
       "      <th>1</th>\n",
       "      <td>z9n6mx</td>\n",
       "      <td>0.081195</td>\n",
       "    </tr>\n",
       "    <tr>\n",
       "      <th>2</th>\n",
       "      <td>5k4413</td>\n",
       "      <td>0.954422</td>\n",
       "    </tr>\n",
       "    <tr>\n",
       "      <th>3</th>\n",
       "      <td>mrg7q5</td>\n",
       "      <td>0.028220</td>\n",
       "    </tr>\n",
       "    <tr>\n",
       "      <th>4</th>\n",
       "      <td>uki4do</td>\n",
       "      <td>0.925373</td>\n",
       "    </tr>\n",
       "  </tbody>\n",
       "</table>\n",
       "</div>"
      ],
      "text/plain": [
       "  patient_id  heart_disease_present\n",
       "0     olalu7               0.689240\n",
       "1     z9n6mx               0.081195\n",
       "2     5k4413               0.954422\n",
       "3     mrg7q5               0.028220\n",
       "4     uki4do               0.925373"
      ]
     },
     "execution_count": 16,
     "metadata": {},
     "output_type": "execute_result"
    }
   ],
   "source": [
    "# make final predicitons on the new data\n",
    "\n",
    "final_test = data_pipe.transform(test_data)\n",
    "\n",
    "final_preds = logit.predict_proba(final_test)\n",
    "\n",
    "\n",
    "hd = pd.DataFrame(final_preds[:,1])\n",
    "hd.columns = ['heart_disease_present']\n",
    "hd.head()\n",
    "\n",
    "patient_id_test.head()\n",
    "\n",
    "# output = pd.concat([pd.DataFrame(patient_id_test), hd], axis = 1)\n",
    "# output.head()\n",
    "\n",
    "# output.to_csv('submission.csv', index = False)"
   ]
  },
  {
   "cell_type": "markdown",
   "metadata": {},
   "source": [
    "## Prepare Reduce Variable Set"
   ]
  },
  {
   "cell_type": "code",
   "execution_count": 17,
   "metadata": {
    "pycharm": {
     "is_executing": false
    }
   },
   "outputs": [],
   "source": [
    "# drop variables determined to be nonsignificant from data exploration\n",
    "vars_2_drop = [\"serum_cholesterol_mg_per_dl\", \"resting_ekg_results\", \"fasting_blood_sugar_gt_120_mg_per_dl\", \"resting_blood_pressure\"]\n",
    "X_red = X_train.drop(vars_2_drop, axis = 1)\n",
    "\n",
    "\n",
    "cat_vars = list(set(['thal', 'chest_pain_type', \"slope_of_peak_exercise_st_segment\"]) - set(vars_2_drop))\n",
    "binary_vars = list(set(['fasting_blood_sugar_gt_120_mg_per_dl', 'sex', 'exercise_induced_angina']) - set(vars_2_drop))\n",
    "num_vars = list(set(X_train.columns.tolist()) - set(cat_vars) - set(binary_vars) - set(vars_2_drop))"
   ]
  },
  {
   "cell_type": "code",
   "execution_count": 18,
   "metadata": {
    "pycharm": {
     "is_executing": false
    }
   },
   "outputs": [],
   "source": [
    "# reinitialize the pipeline for transforming data using reduced variable space\n",
    "\n",
    "num_pipe = Pipeline([\n",
    "    ('imputer', SimpleImputer(strategy = 'median')),      # include imputer in case there exists any missing values in\n",
    "    ('std_scaler', StandardScaler())\n",
    "])\n",
    "\n",
    "preprocess_pipe = ColumnTransformer([\n",
    "    (\"num\", num_pipe, num_vars), \n",
    "    (\"cat\", OneHotEncoder(), cat_vars)\n",
    "], remainder = 'passthrough')\n",
    "\n",
    "# full_pipe = Pipeline([\n",
    "#     ('preprocess', preprocess_pipe),\n",
    "#     ('Logit', LogisticRegression())\n",
    "#     ])"
   ]
  },
  {
   "cell_type": "code",
   "execution_count": 19,
   "metadata": {
    "pycharm": {
     "is_executing": false
    },
    "scrolled": true
   },
   "outputs": [
    {
     "data": {
      "text/html": [
       "<div>\n",
       "<style scoped>\n",
       "    .dataframe tbody tr th:only-of-type {\n",
       "        vertical-align: middle;\n",
       "    }\n",
       "\n",
       "    .dataframe tbody tr th {\n",
       "        vertical-align: top;\n",
       "    }\n",
       "\n",
       "    .dataframe thead th {\n",
       "        text-align: right;\n",
       "    }\n",
       "</style>\n",
       "<table border=\"1\" class=\"dataframe\">\n",
       "  <thead>\n",
       "    <tr style=\"text-align: right;\">\n",
       "      <th></th>\n",
       "      <th>age</th>\n",
       "      <th>max_heart_rate_achieved</th>\n",
       "      <th>num_major_vessels</th>\n",
       "      <th>oldpeak_eq_st_depression</th>\n",
       "      <th>thal_fixed_defect</th>\n",
       "      <th>thal_normal</th>\n",
       "      <th>thal_reversible_defect</th>\n",
       "      <th>chest_pain_type_1</th>\n",
       "      <th>chest_pain_type_2</th>\n",
       "      <th>chest_pain_type_3</th>\n",
       "      <th>chest_pain_type_4</th>\n",
       "      <th>slope_of_peak_exercise_st_segment_1</th>\n",
       "      <th>slope_of_peak_exercise_st_segment_2</th>\n",
       "      <th>slope_of_peak_exercise_st_segment_3</th>\n",
       "      <th>exercise_induced_angina</th>\n",
       "      <th>sex</th>\n",
       "    </tr>\n",
       "  </thead>\n",
       "  <tbody>\n",
       "    <tr>\n",
       "      <th>139</th>\n",
       "      <td>-1.106284</td>\n",
       "      <td>1.732022</td>\n",
       "      <td>-0.729325</td>\n",
       "      <td>-0.892721</td>\n",
       "      <td>0.0</td>\n",
       "      <td>1.0</td>\n",
       "      <td>0.0</td>\n",
       "      <td>0.0</td>\n",
       "      <td>1.0</td>\n",
       "      <td>0.0</td>\n",
       "      <td>0.0</td>\n",
       "      <td>1.0</td>\n",
       "      <td>0.0</td>\n",
       "      <td>0.0</td>\n",
       "      <td>1.0</td>\n",
       "      <td>0.0</td>\n",
       "    </tr>\n",
       "    <tr>\n",
       "      <th>0</th>\n",
       "      <td>-1.003241</td>\n",
       "      <td>0.911440</td>\n",
       "      <td>-0.729325</td>\n",
       "      <td>-0.892721</td>\n",
       "      <td>0.0</td>\n",
       "      <td>1.0</td>\n",
       "      <td>0.0</td>\n",
       "      <td>0.0</td>\n",
       "      <td>1.0</td>\n",
       "      <td>0.0</td>\n",
       "      <td>0.0</td>\n",
       "      <td>1.0</td>\n",
       "      <td>0.0</td>\n",
       "      <td>0.0</td>\n",
       "      <td>1.0</td>\n",
       "      <td>0.0</td>\n",
       "    </tr>\n",
       "    <tr>\n",
       "      <th>169</th>\n",
       "      <td>0.954582</td>\n",
       "      <td>-0.273844</td>\n",
       "      <td>-0.729325</td>\n",
       "      <td>0.781615</td>\n",
       "      <td>0.0</td>\n",
       "      <td>1.0</td>\n",
       "      <td>0.0</td>\n",
       "      <td>1.0</td>\n",
       "      <td>0.0</td>\n",
       "      <td>0.0</td>\n",
       "      <td>0.0</td>\n",
       "      <td>0.0</td>\n",
       "      <td>1.0</td>\n",
       "      <td>0.0</td>\n",
       "      <td>1.0</td>\n",
       "      <td>1.0</td>\n",
       "    </tr>\n",
       "    <tr>\n",
       "      <th>65</th>\n",
       "      <td>-2.033674</td>\n",
       "      <td>0.273211</td>\n",
       "      <td>-0.729325</td>\n",
       "      <td>-0.892721</td>\n",
       "      <td>0.0</td>\n",
       "      <td>0.0</td>\n",
       "      <td>1.0</td>\n",
       "      <td>0.0</td>\n",
       "      <td>0.0</td>\n",
       "      <td>0.0</td>\n",
       "      <td>1.0</td>\n",
       "      <td>1.0</td>\n",
       "      <td>0.0</td>\n",
       "      <td>0.0</td>\n",
       "      <td>1.0</td>\n",
       "      <td>1.0</td>\n",
       "    </tr>\n",
       "    <tr>\n",
       "      <th>98</th>\n",
       "      <td>1.057625</td>\n",
       "      <td>-0.091492</td>\n",
       "      <td>-0.729325</td>\n",
       "      <td>-0.148571</td>\n",
       "      <td>0.0</td>\n",
       "      <td>1.0</td>\n",
       "      <td>0.0</td>\n",
       "      <td>0.0</td>\n",
       "      <td>0.0</td>\n",
       "      <td>1.0</td>\n",
       "      <td>0.0</td>\n",
       "      <td>1.0</td>\n",
       "      <td>0.0</td>\n",
       "      <td>0.0</td>\n",
       "      <td>0.0</td>\n",
       "      <td>0.0</td>\n",
       "    </tr>\n",
       "  </tbody>\n",
       "</table>\n",
       "</div>"
      ],
      "text/plain": [
       "          age  max_heart_rate_achieved  num_major_vessels  \\\n",
       "139 -1.106284                 1.732022          -0.729325   \n",
       "0   -1.003241                 0.911440          -0.729325   \n",
       "169  0.954582                -0.273844          -0.729325   \n",
       "65  -2.033674                 0.273211          -0.729325   \n",
       "98   1.057625                -0.091492          -0.729325   \n",
       "\n",
       "     oldpeak_eq_st_depression  thal_fixed_defect  thal_normal  \\\n",
       "139                 -0.892721                0.0          1.0   \n",
       "0                   -0.892721                0.0          1.0   \n",
       "169                  0.781615                0.0          1.0   \n",
       "65                  -0.892721                0.0          0.0   \n",
       "98                  -0.148571                0.0          1.0   \n",
       "\n",
       "     thal_reversible_defect  chest_pain_type_1  chest_pain_type_2  \\\n",
       "139                     0.0                0.0                1.0   \n",
       "0                       0.0                0.0                1.0   \n",
       "169                     0.0                1.0                0.0   \n",
       "65                      1.0                0.0                0.0   \n",
       "98                      0.0                0.0                0.0   \n",
       "\n",
       "     chest_pain_type_3  chest_pain_type_4  \\\n",
       "139                0.0                0.0   \n",
       "0                  0.0                0.0   \n",
       "169                0.0                0.0   \n",
       "65                 0.0                1.0   \n",
       "98                 1.0                0.0   \n",
       "\n",
       "     slope_of_peak_exercise_st_segment_1  slope_of_peak_exercise_st_segment_2  \\\n",
       "139                                  1.0                                  0.0   \n",
       "0                                    1.0                                  0.0   \n",
       "169                                  0.0                                  1.0   \n",
       "65                                   1.0                                  0.0   \n",
       "98                                   1.0                                  0.0   \n",
       "\n",
       "     slope_of_peak_exercise_st_segment_3  exercise_induced_angina  sex  \n",
       "139                                  0.0                      1.0  0.0  \n",
       "0                                    0.0                      1.0  0.0  \n",
       "169                                  0.0                      1.0  1.0  \n",
       "65                                   0.0                      1.0  1.0  \n",
       "98                                   0.0                      0.0  0.0  "
      ]
     },
     "execution_count": 19,
     "metadata": {},
     "output_type": "execute_result"
    },
    {
     "data": {
      "text/plain": [
       "(144, 16)"
      ]
     },
     "execution_count": 19,
     "metadata": {},
     "output_type": "execute_result"
    }
   ],
   "source": [
    "X_red_tr = preprocess_pipe.fit_transform(X_red)\n",
    "X_red_tr = pd.DataFrame(X_red_tr)\n",
    "\n",
    "col_names = num_vars + list(preprocess_pipe.named_transformers_['cat'].get_feature_names(cat_vars)) +  binary_vars\n",
    "X_red_tr.columns = col_names\n",
    "\n",
    "# add back indices\n",
    "X_red_tr.index = X_train.index\n",
    "\n",
    "# check data, all looks good\n",
    "X_red_tr.head()\n",
    "X_red_tr.shape\n",
    "\n",
    "\n",
    "# transform test set also\n",
    "X_test_red = X_test.drop(vars_2_drop, axis = 1)\n",
    "X_test_tr = preprocess_pipe.transform(X_test_red)\n",
    "X_test_tr = pd.DataFrame(X_test_tr)\n",
    "X_test_tr.index = X_test.index\n",
    "X_test_tr.columns = col_names"
   ]
  },
  {
   "cell_type": "code",
   "execution_count": 20,
   "metadata": {
    "pycharm": {
     "is_executing": false
    },
    "scrolled": false
   },
   "outputs": [
    {
     "data": {
      "text/html": [
       "<div>\n",
       "<style scoped>\n",
       "    .dataframe tbody tr th:only-of-type {\n",
       "        vertical-align: middle;\n",
       "    }\n",
       "\n",
       "    .dataframe tbody tr th {\n",
       "        vertical-align: top;\n",
       "    }\n",
       "\n",
       "    .dataframe thead th {\n",
       "        text-align: right;\n",
       "    }\n",
       "</style>\n",
       "<table border=\"1\" class=\"dataframe\">\n",
       "  <thead>\n",
       "    <tr style=\"text-align: right;\">\n",
       "      <th></th>\n",
       "      <th>age</th>\n",
       "      <th>max_heart_rate_achieved</th>\n",
       "      <th>num_major_vessels</th>\n",
       "      <th>oldpeak_eq_st_depression</th>\n",
       "    </tr>\n",
       "  </thead>\n",
       "  <tbody>\n",
       "    <tr>\n",
       "      <th>age</th>\n",
       "      <td>1.000000</td>\n",
       "      <td>-0.419572</td>\n",
       "      <td>0.338477</td>\n",
       "      <td>0.205058</td>\n",
       "    </tr>\n",
       "    <tr>\n",
       "      <th>max_heart_rate_achieved</th>\n",
       "      <td>-0.419572</td>\n",
       "      <td>1.000000</td>\n",
       "      <td>-0.254248</td>\n",
       "      <td>-0.372477</td>\n",
       "    </tr>\n",
       "    <tr>\n",
       "      <th>num_major_vessels</th>\n",
       "      <td>0.338477</td>\n",
       "      <td>-0.254248</td>\n",
       "      <td>1.000000</td>\n",
       "      <td>0.231526</td>\n",
       "    </tr>\n",
       "    <tr>\n",
       "      <th>oldpeak_eq_st_depression</th>\n",
       "      <td>0.205058</td>\n",
       "      <td>-0.372477</td>\n",
       "      <td>0.231526</td>\n",
       "      <td>1.000000</td>\n",
       "    </tr>\n",
       "  </tbody>\n",
       "</table>\n",
       "</div>"
      ],
      "text/plain": [
       "                               age  max_heart_rate_achieved  \\\n",
       "age                       1.000000                -0.419572   \n",
       "max_heart_rate_achieved  -0.419572                 1.000000   \n",
       "num_major_vessels         0.338477                -0.254248   \n",
       "oldpeak_eq_st_depression  0.205058                -0.372477   \n",
       "\n",
       "                          num_major_vessels  oldpeak_eq_st_depression  \n",
       "age                                0.338477                  0.205058  \n",
       "max_heart_rate_achieved           -0.254248                 -0.372477  \n",
       "num_major_vessels                  1.000000                  0.231526  \n",
       "oldpeak_eq_st_depression           0.231526                  1.000000  "
      ]
     },
     "execution_count": 20,
     "metadata": {},
     "output_type": "execute_result"
    },
    {
     "data": {
      "text/plain": [
       "<matplotlib.axes._subplots.AxesSubplot at 0x1b24ef2d048>"
      ]
     },
     "execution_count": 20,
     "metadata": {},
     "output_type": "execute_result"
    },
    {
     "data": {
      "text/plain": [
       "(array([0.5, 1.5, 2.5, 3.5]), <a list of 4 Text xticklabel objects>)"
      ]
     },
     "execution_count": 20,
     "metadata": {},
     "output_type": "execute_result"
    },
    {
     "data": {
      "text/plain": [
       "(array([0.5, 1.5, 2.5, 3.5]), <a list of 4 Text yticklabel objects>)"
      ]
     },
     "execution_count": 20,
     "metadata": {},
     "output_type": "execute_result"
    },
    {
     "data": {
      "image/png": "[encoded data removed]",
      "text/plain": [
       "<Figure size 432x288 with 2 Axes>"
      ]
     },
     "metadata": {
      "needs_background": "light"
     },
     "output_type": "display_data"
    }
   ],
   "source": [
    "#  Check for any correlations between numerical variables\n",
    "corr_matrix = pd.DataFrame(np.corrcoef(X_red_tr[num_vars], rowvar = False))\n",
    "corr_matrix.columns, corr_matrix.index = num_vars, num_vars\n",
    "corr_matrix\n",
    "corr_matrix = np.abs(corr_matrix)   # Took the absolute value of the correlations to see if there are highly correlated vars, \n",
    "sns.heatmap(corr_matrix, cmap = plt.cm.hot)   # dont care if they are positive or negative\n",
    "plt.xticks(rotation = 45)\n",
    "plt.yticks(rotation = 45)\n",
    "\n",
    "# No terribly highly correlated numerical variables"
   ]
  },
  {
   "cell_type": "code",
   "execution_count": 21,
   "metadata": {
    "pycharm": {
     "is_executing": false
    }
   },
   "outputs": [],
   "source": [
    "#prepare entire training set and new data for final predictions\n",
    "X_full_red = train.drop(vars_2_drop, axis = 1)\n",
    "X_full_transf = preprocess_pipe.fit_transform(X_full_red)\n",
    "\n",
    "test_data_trans = preprocess_pipe.transform(test_data)"
   ]
  },
  {
   "cell_type": "markdown",
   "metadata": {},
   "source": [
    "## Fitting Logit with reduced variables"
   ]
  },
  {
   "cell_type": "code",
   "execution_count": 22,
   "metadata": {
    "pycharm": {
     "is_executing": false
    }
   },
   "outputs": [
    {
     "name": "stdout",
     "output_type": "stream",
     "text": [
      "Optimization terminated successfully.    (Exit mode 0)\n",
      "            Current function value: 0.42617257854370083\n",
      "            Iterations: 87\n",
      "            Function evaluations: 87\n",
      "            Gradient evaluations: 87\n"
     ]
    },
    {
     "name": "stderr",
     "output_type": "stream",
     "text": [
      "C:\\Users\\Tony\\Anaconda3\\lib\\site-packages\\scipy\\stats\\_distn_infrastructure.py:877: RuntimeWarning: invalid value encountered in greater\n",
      "  return (self.a < x) & (x < self.b)\n",
      "C:\\Users\\Tony\\Anaconda3\\lib\\site-packages\\scipy\\stats\\_distn_infrastructure.py:877: RuntimeWarning: invalid value encountered in less\n",
      "  return (self.a < x) & (x < self.b)\n",
      "C:\\Users\\Tony\\Anaconda3\\lib\\site-packages\\scipy\\stats\\_distn_infrastructure.py:1831: RuntimeWarning: invalid value encountered in less_equal\n",
      "  cond2 = cond0 & (x <= self.a)\n"
     ]
    },
    {
     "data": {
      "text/html": [
       "<table class=\"simpletable\">\n",
       "<caption>Logit Regression Results</caption>\n",
       "<tr>\n",
       "  <th>Dep. Variable:</th>   <td>heart_disease_present</td> <th>  No. Observations:  </th>  <td>   144</td>  \n",
       "</tr>\n",
       "<tr>\n",
       "  <th>Model:</th>                   <td>Logit</td>         <th>  Df Residuals:      </th>  <td>   132</td>  \n",
       "</tr>\n",
       "<tr>\n",
       "  <th>Method:</th>                   <td>MLE</td>          <th>  Df Model:          </th>  <td>    11</td>  \n",
       "</tr>\n",
       "<tr>\n",
       "  <th>Date:</th>              <td>Fri, 01 Nov 2019</td>    <th>  Pseudo R-squ.:     </th>  <td>0.4394</td>  \n",
       "</tr>\n",
       "<tr>\n",
       "  <th>Time:</th>                  <td>16:05:54</td>        <th>  Log-Likelihood:    </th> <td> -55.460</td> \n",
       "</tr>\n",
       "<tr>\n",
       "  <th>converged:</th>               <td>True</td>          <th>  LL-Null:           </th> <td> -98.922</td> \n",
       "</tr>\n",
       "<tr>\n",
       "  <th>Covariance Type:</th>       <td>nonrobust</td>       <th>  LLR p-value:       </th> <td>6.658e-14</td>\n",
       "</tr>\n",
       "</table>\n",
       "<table class=\"simpletable\">\n",
       "<tr>\n",
       "                   <td></td>                      <th>coef</th>     <th>std err</th>      <th>z</th>      <th>P>|z|</th>  <th>[0.025</th>    <th>0.975]</th>  \n",
       "</tr>\n",
       "<tr>\n",
       "  <th>age</th>                                 <td>   -0.0147</td> <td>    0.269</td> <td>   -0.055</td> <td> 0.956</td> <td>   -0.542</td> <td>    0.512</td>\n",
       "</tr>\n",
       "<tr>\n",
       "  <th>max_heart_rate_achieved</th>             <td>   -0.1905</td> <td>    0.288</td> <td>   -0.661</td> <td> 0.508</td> <td>   -0.755</td> <td>    0.374</td>\n",
       "</tr>\n",
       "<tr>\n",
       "  <th>num_major_vessels</th>                   <td>    0.7116</td> <td>    0.269</td> <td>    2.649</td> <td> 0.008</td> <td>    0.185</td> <td>    1.238</td>\n",
       "</tr>\n",
       "<tr>\n",
       "  <th>oldpeak_eq_st_depression</th>            <td>    0.2758</td> <td>    0.326</td> <td>    0.845</td> <td> 0.398</td> <td>   -0.364</td> <td>    0.916</td>\n",
       "</tr>\n",
       "<tr>\n",
       "  <th>thal_fixed_defect</th>                   <td>   -0.2413</td> <td>    1.156</td> <td>   -0.209</td> <td> 0.835</td> <td>   -2.508</td> <td>    2.025</td>\n",
       "</tr>\n",
       "<tr>\n",
       "  <th>thal_normal</th>                         <td>   -1.4902</td> <td>    0.692</td> <td>   -2.154</td> <td> 0.031</td> <td>   -2.846</td> <td>   -0.134</td>\n",
       "</tr>\n",
       "<tr>\n",
       "  <th>thal_reversible_defect</th>              <td>    0.0021</td> <td>    0.840</td> <td>    0.002</td> <td> 0.998</td> <td>   -1.644</td> <td>    1.648</td>\n",
       "</tr>\n",
       "<tr>\n",
       "  <th>chest_pain_type_1</th>                   <td>         0</td> <td>      nan</td> <td>      nan</td> <td>   nan</td> <td>      nan</td> <td>      nan</td>\n",
       "</tr>\n",
       "<tr>\n",
       "  <th>chest_pain_type_2</th>                   <td>         0</td> <td>      nan</td> <td>      nan</td> <td>   nan</td> <td>      nan</td> <td>      nan</td>\n",
       "</tr>\n",
       "<tr>\n",
       "  <th>chest_pain_type_3</th>                   <td>   -0.1628</td> <td>    0.626</td> <td>   -0.260</td> <td> 0.795</td> <td>   -1.391</td> <td>    1.065</td>\n",
       "</tr>\n",
       "<tr>\n",
       "  <th>chest_pain_type_4</th>                   <td>    0.9615</td> <td>    0.621</td> <td>    1.547</td> <td> 0.122</td> <td>   -0.256</td> <td>    2.179</td>\n",
       "</tr>\n",
       "<tr>\n",
       "  <th>slope_of_peak_exercise_st_segment_1</th> <td>   -0.6847</td> <td>    0.559</td> <td>   -1.225</td> <td> 0.221</td> <td>   -1.780</td> <td>    0.411</td>\n",
       "</tr>\n",
       "<tr>\n",
       "  <th>slope_of_peak_exercise_st_segment_2</th> <td>         0</td> <td>      nan</td> <td>      nan</td> <td>   nan</td> <td>      nan</td> <td>      nan</td>\n",
       "</tr>\n",
       "<tr>\n",
       "  <th>slope_of_peak_exercise_st_segment_3</th> <td>         0</td> <td>      nan</td> <td>      nan</td> <td>   nan</td> <td>      nan</td> <td>      nan</td>\n",
       "</tr>\n",
       "<tr>\n",
       "  <th>exercise_induced_angina</th>             <td>    0.7001</td> <td>    0.584</td> <td>    1.199</td> <td> 0.231</td> <td>   -0.445</td> <td>    1.845</td>\n",
       "</tr>\n",
       "<tr>\n",
       "  <th>sex</th>                                 <td>    0.4736</td> <td>    0.547</td> <td>    0.867</td> <td> 0.386</td> <td>   -0.598</td> <td>    1.545</td>\n",
       "</tr>\n",
       "</table>"
      ],
      "text/plain": [
       "<class 'statsmodels.iolib.summary.Summary'>\n",
       "\"\"\"\n",
       "                             Logit Regression Results                            \n",
       "=================================================================================\n",
       "Dep. Variable:     heart_disease_present   No. Observations:                  144\n",
       "Model:                             Logit   Df Residuals:                      132\n",
       "Method:                              MLE   Df Model:                           11\n",
       "Date:                   Fri, 01 Nov 2019   Pseudo R-squ.:                  0.4394\n",
       "Time:                           16:05:54   Log-Likelihood:                -55.460\n",
       "converged:                          True   LL-Null:                       -98.922\n",
       "Covariance Type:               nonrobust   LLR p-value:                 6.658e-14\n",
       "=======================================================================================================\n",
       "                                          coef    std err          z      P>|z|      [0.025      0.975]\n",
       "-------------------------------------------------------------------------------------------------------\n",
       "age                                    -0.0147      0.269     -0.055      0.956      -0.542       0.512\n",
       "max_heart_rate_achieved                -0.1905      0.288     -0.661      0.508      -0.755       0.374\n",
       "num_major_vessels                       0.7116      0.269      2.649      0.008       0.185       1.238\n",
       "oldpeak_eq_st_depression                0.2758      0.326      0.845      0.398      -0.364       0.916\n",
       "thal_fixed_defect                      -0.2413      1.156     -0.209      0.835      -2.508       2.025\n",
       "thal_normal                            -1.4902      0.692     -2.154      0.031      -2.846      -0.134\n",
       "thal_reversible_defect                  0.0021      0.840      0.002      0.998      -1.644       1.648\n",
       "chest_pain_type_1                            0        nan        nan        nan         nan         nan\n",
       "chest_pain_type_2                            0        nan        nan        nan         nan         nan\n",
       "chest_pain_type_3                      -0.1628      0.626     -0.260      0.795      -1.391       1.065\n",
       "chest_pain_type_4                       0.9615      0.621      1.547      0.122      -0.256       2.179\n",
       "slope_of_peak_exercise_st_segment_1    -0.6847      0.559     -1.225      0.221      -1.780       0.411\n",
       "slope_of_peak_exercise_st_segment_2          0        nan        nan        nan         nan         nan\n",
       "slope_of_peak_exercise_st_segment_3          0        nan        nan        nan         nan         nan\n",
       "exercise_induced_angina                 0.7001      0.584      1.199      0.231      -0.445       1.845\n",
       "sex                                     0.4736      0.547      0.867      0.386      -0.598       1.545\n",
       "=======================================================================================================\n",
       "\"\"\""
      ]
     },
     "execution_count": 22,
     "metadata": {},
     "output_type": "execute_result"
    }
   ],
   "source": [
    "# results = red_logit.fit()\n",
    "# results.summary()\n",
    "\n",
    "# Need to find the best parameter for regularization, LASSO performs  variable selection as an added bonus\n",
    "sm.Logit(y_train, X_red_tr).fit_regularized(alpha = 1).summary()"
   ]
  },
  {
   "cell_type": "code",
   "execution_count": 23,
   "metadata": {
    "pycharm": {
     "is_executing": false
    }
   },
   "outputs": [
    {
     "name": "stdout",
     "output_type": "stream",
     "text": [
      "Optimization terminated successfully.    (Exit mode 0)\n",
      "            Current function value: 0.42618313804228425\n",
      "            Iterations: 78\n",
      "            Function evaluations: 78\n",
      "            Gradient evaluations: 78\n"
     ]
    },
    {
     "data": {
      "text/html": [
       "<table class=\"simpletable\">\n",
       "<caption>Logit Regression Results</caption>\n",
       "<tr>\n",
       "  <th>Dep. Variable:</th>   <td>heart_disease_present</td> <th>  No. Observations:  </th>  <td>   144</td>  \n",
       "</tr>\n",
       "<tr>\n",
       "  <th>Model:</th>                   <td>Logit</td>         <th>  Df Residuals:      </th>  <td>   133</td>  \n",
       "</tr>\n",
       "<tr>\n",
       "  <th>Method:</th>                   <td>MLE</td>          <th>  Df Model:          </th>  <td>    10</td>  \n",
       "</tr>\n",
       "<tr>\n",
       "  <th>Date:</th>              <td>Fri, 01 Nov 2019</td>    <th>  Pseudo R-squ.:     </th>  <td>0.4392</td>  \n",
       "</tr>\n",
       "<tr>\n",
       "  <th>Time:</th>                  <td>16:05:54</td>        <th>  Log-Likelihood:    </th> <td> -55.474</td> \n",
       "</tr>\n",
       "<tr>\n",
       "  <th>converged:</th>               <td>True</td>          <th>  LL-Null:           </th> <td> -98.922</td> \n",
       "</tr>\n",
       "<tr>\n",
       "  <th>Covariance Type:</th>       <td>nonrobust</td>       <th>  LLR p-value:       </th> <td>2.204e-14</td>\n",
       "</tr>\n",
       "</table>\n",
       "<table class=\"simpletable\">\n",
       "<tr>\n",
       "                   <td></td>                      <th>coef</th>     <th>std err</th>      <th>z</th>      <th>P>|z|</th>  <th>[0.025</th>    <th>0.975]</th>  \n",
       "</tr>\n",
       "<tr>\n",
       "  <th>max_heart_rate_achieved</th>             <td>   -0.1856</td> <td>    0.275</td> <td>   -0.675</td> <td> 0.500</td> <td>   -0.725</td> <td>    0.353</td>\n",
       "</tr>\n",
       "<tr>\n",
       "  <th>num_major_vessels</th>                   <td>    0.7078</td> <td>    0.258</td> <td>    2.740</td> <td> 0.006</td> <td>    0.201</td> <td>    1.214</td>\n",
       "</tr>\n",
       "<tr>\n",
       "  <th>oldpeak_eq_st_depression</th>            <td>    0.2733</td> <td>    0.324</td> <td>    0.844</td> <td> 0.398</td> <td>   -0.361</td> <td>    0.908</td>\n",
       "</tr>\n",
       "<tr>\n",
       "  <th>thal_fixed_defect</th>                   <td>   -0.2460</td> <td>    1.146</td> <td>   -0.215</td> <td> 0.830</td> <td>   -2.492</td> <td>    2.000</td>\n",
       "</tr>\n",
       "<tr>\n",
       "  <th>thal_normal</th>                         <td>   -1.4945</td> <td>    0.677</td> <td>   -2.207</td> <td> 0.027</td> <td>   -2.822</td> <td>   -0.167</td>\n",
       "</tr>\n",
       "<tr>\n",
       "  <th>thal_reversible_defect</th>              <td>-5.161e-17</td> <td>    0.829</td> <td>-6.23e-17</td> <td> 1.000</td> <td>   -1.625</td> <td>    1.625</td>\n",
       "</tr>\n",
       "<tr>\n",
       "  <th>chest_pain_type_1</th>                   <td>         0</td> <td>      nan</td> <td>      nan</td> <td>   nan</td> <td>      nan</td> <td>      nan</td>\n",
       "</tr>\n",
       "<tr>\n",
       "  <th>chest_pain_type_2</th>                   <td>         0</td> <td>      nan</td> <td>      nan</td> <td>   nan</td> <td>      nan</td> <td>      nan</td>\n",
       "</tr>\n",
       "<tr>\n",
       "  <th>chest_pain_type_3</th>                   <td>   -0.1654</td> <td>    0.626</td> <td>   -0.264</td> <td> 0.792</td> <td>   -1.393</td> <td>    1.062</td>\n",
       "</tr>\n",
       "<tr>\n",
       "  <th>chest_pain_type_4</th>                   <td>    0.9613</td> <td>    0.620</td> <td>    1.550</td> <td> 0.121</td> <td>   -0.254</td> <td>    2.177</td>\n",
       "</tr>\n",
       "<tr>\n",
       "  <th>slope_of_peak_exercise_st_segment_1</th> <td>   -0.6852</td> <td>    0.559</td> <td>   -1.225</td> <td> 0.220</td> <td>   -1.781</td> <td>    0.411</td>\n",
       "</tr>\n",
       "<tr>\n",
       "  <th>slope_of_peak_exercise_st_segment_2</th> <td>         0</td> <td>      nan</td> <td>      nan</td> <td>   nan</td> <td>      nan</td> <td>      nan</td>\n",
       "</tr>\n",
       "<tr>\n",
       "  <th>slope_of_peak_exercise_st_segment_3</th> <td>         0</td> <td>      nan</td> <td>      nan</td> <td>   nan</td> <td>      nan</td> <td>      nan</td>\n",
       "</tr>\n",
       "<tr>\n",
       "  <th>exercise_induced_angina</th>             <td>    0.7059</td> <td>    0.568</td> <td>    1.244</td> <td> 0.214</td> <td>   -0.407</td> <td>    1.818</td>\n",
       "</tr>\n",
       "<tr>\n",
       "  <th>sex</th>                                 <td>    0.4715</td> <td>    0.546</td> <td>    0.863</td> <td> 0.388</td> <td>   -0.599</td> <td>    1.542</td>\n",
       "</tr>\n",
       "</table>"
      ],
      "text/plain": [
       "<class 'statsmodels.iolib.summary.Summary'>\n",
       "\"\"\"\n",
       "                             Logit Regression Results                            \n",
       "=================================================================================\n",
       "Dep. Variable:     heart_disease_present   No. Observations:                  144\n",
       "Model:                             Logit   Df Residuals:                      133\n",
       "Method:                              MLE   Df Model:                           10\n",
       "Date:                   Fri, 01 Nov 2019   Pseudo R-squ.:                  0.4392\n",
       "Time:                           16:05:54   Log-Likelihood:                -55.474\n",
       "converged:                          True   LL-Null:                       -98.922\n",
       "Covariance Type:               nonrobust   LLR p-value:                 2.204e-14\n",
       "=======================================================================================================\n",
       "                                          coef    std err          z      P>|z|      [0.025      0.975]\n",
       "-------------------------------------------------------------------------------------------------------\n",
       "max_heart_rate_achieved                -0.1856      0.275     -0.675      0.500      -0.725       0.353\n",
       "num_major_vessels                       0.7078      0.258      2.740      0.006       0.201       1.214\n",
       "oldpeak_eq_st_depression                0.2733      0.324      0.844      0.398      -0.361       0.908\n",
       "thal_fixed_defect                      -0.2460      1.146     -0.215      0.830      -2.492       2.000\n",
       "thal_normal                            -1.4945      0.677     -2.207      0.027      -2.822      -0.167\n",
       "thal_reversible_defect              -5.161e-17      0.829  -6.23e-17      1.000      -1.625       1.625\n",
       "chest_pain_type_1                            0        nan        nan        nan         nan         nan\n",
       "chest_pain_type_2                            0        nan        nan        nan         nan         nan\n",
       "chest_pain_type_3                      -0.1654      0.626     -0.264      0.792      -1.393       1.062\n",
       "chest_pain_type_4                       0.9613      0.620      1.550      0.121      -0.254       2.177\n",
       "slope_of_peak_exercise_st_segment_1    -0.6852      0.559     -1.225      0.220      -1.781       0.411\n",
       "slope_of_peak_exercise_st_segment_2          0        nan        nan        nan         nan         nan\n",
       "slope_of_peak_exercise_st_segment_3          0        nan        nan        nan         nan         nan\n",
       "exercise_induced_angina                 0.7059      0.568      1.244      0.214      -0.407       1.818\n",
       "sex                                     0.4715      0.546      0.863      0.388      -0.599       1.542\n",
       "=======================================================================================================\n",
       "\"\"\""
      ]
     },
     "execution_count": 23,
     "metadata": {},
     "output_type": "execute_result"
    }
   ],
   "source": [
    "sm.Logit(y_train, X_red_tr.drop(\"age\", axis = 1)).fit_regularized(alpha = 1).summary()\n"
   ]
  },
  {
   "cell_type": "code",
   "execution_count": 24,
   "metadata": {
    "pycharm": {
     "is_executing": false
    }
   },
   "outputs": [
    {
     "data": {
      "text/plain": [
       "GridSearchCV(cv=7, error_score='raise-deprecating',\n",
       "             estimator=LogisticRegression(C=1.0, class_weight=None, dual=False,\n",
       "                                          fit_intercept=True,\n",
       "                                          intercept_scaling=1, l1_ratio=None,\n",
       "                                          max_iter=100, multi_class='warn',\n",
       "                                          n_jobs=None, penalty='l2',\n",
       "                                          random_state=None, solver='warn',\n",
       "                                          tol=0.0001, verbose=0,\n",
       "                                          warm_start=False),\n",
       "             iid='warn', n_jobs=None,\n",
       "             param_grid=[{'penalty': ['none'], 'solver': ['saga']},\n",
       "                         {'C': [0.01, 0.1, 0.5, 1, 10, 20], 'max_iter': [500],\n",
       "                          'penalty': ['l2', 'l1']},\n",
       "                         {'C': [0.01, 0.1, 0.5, 1, 1.5, 5, 10],\n",
       "                          'l1_ratio': [0.001, 0.01, 0.1, 0.3, 0.6, 0.9],\n",
       "                          'max_iter': [500], 'penalty': ['elasticnet'],\n",
       "                          'solver': ['saga']}],\n",
       "             pre_dispatch='2*n_jobs', refit=True, return_train_score=True,\n",
       "             scoring='neg_log_loss', verbose=0)"
      ]
     },
     "execution_count": 24,
     "metadata": {},
     "output_type": "execute_result"
    }
   ],
   "source": [
    "param_grid = [\n",
    "    {\"penalty\":[\"none\"], \"solver\":[\"saga\"]},\n",
    "    {\"penalty\":[\"l2\", \"l1\"], \"C\":[0.01, 0.1, 0.5, 1, 10, 20], \"max_iter\":[500]},\n",
    "    {\"penalty\":[\"elasticnet\"], \"solver\":[\"saga\"], \"C\":[0.01, 0.1, 0.5, 1, 1.5, 5, 10], \n",
    "             \"l1_ratio\":[0.001, 0.01, 0.1, 0.3, 0.6, 0.9], \"max_iter\":[500]}\n",
    "]\n",
    "logit_red = LogisticRegression()\n",
    "grid_search = GridSearchCV(logit_red, param_grid, cv = 7, scoring = \"neg_log_loss\", return_train_score = True)\n",
    "\n",
    "grid_search.fit(X_red_tr.drop(\"age\", axis = 1), y_train)"
   ]
  },
  {
   "cell_type": "code",
   "execution_count": 25,
   "metadata": {
    "pycharm": {
     "is_executing": false
    }
   },
   "outputs": [
    {
     "data": {
      "text/plain": [
       "{'C': 0.5,\n",
       " 'l1_ratio': 0.001,\n",
       " 'max_iter': 500,\n",
       " 'penalty': 'elasticnet',\n",
       " 'solver': 'saga'}"
      ]
     },
     "execution_count": 25,
     "metadata": {},
     "output_type": "execute_result"
    },
    {
     "data": {
      "text/plain": [
       "LogisticRegression(C=0.5, class_weight=None, dual=False, fit_intercept=True,\n",
       "                   intercept_scaling=1, l1_ratio=0.001, max_iter=500,\n",
       "                   multi_class='warn', n_jobs=None, penalty='elasticnet',\n",
       "                   random_state=None, solver='saga', tol=0.0001, verbose=0,\n",
       "                   warm_start=False)"
      ]
     },
     "execution_count": 25,
     "metadata": {},
     "output_type": "execute_result"
    },
    {
     "data": {
      "text/plain": [
       "array([[-0.26198118,  0.66284333,  0.35966963, -0.10588772, -0.61931501,\n",
       "         0.72174746, -0.3334182 , -0.06139665, -0.34992335,  0.74228393,\n",
       "        -0.38337694,  0.20479974,  0.17311998,  0.84908045,  0.53370134]])"
      ]
     },
     "execution_count": 25,
     "metadata": {},
     "output_type": "execute_result"
    }
   ],
   "source": [
    "grid_search.best_params_\n",
    "grid_search.best_estimator_\n",
    "grid_search.best_estimator_.coef_\n",
    "\n",
    "# grid_scores = grid_search.cv_results_\n",
    "# for mean_score, params in zip(grid_scores[\"mean_test_score\"], grid_scores[\"params\"]):\n",
    "#     print(mean_score, params)"
   ]
  },
  {
   "cell_type": "markdown",
   "metadata": {},
   "source": [
    "Best logistic regression model chosen through hypertuning used **elastic net regularization with an l1 ratio of 0.1 and regularization factor of 10 (C = 0.1)**. In addition to getting the highest precision score, it performed some variable selection. It determine age was not significant (as suspected) and a category from the thal and slope of peak ST segment variables. I am more hesitant about the later 2 exclusions since they are part oof categorical variables and is not wise to essentially just drop 2 levels. "
   ]
  },
  {
   "cell_type": "code",
   "execution_count": 48,
   "metadata": {
    "pycharm": {
     "is_executing": false
    }
   },
   "outputs": [
    {
     "data": {
      "text/html": [
       "<div>\n",
       "<style scoped>\n",
       "    .dataframe tbody tr th:only-of-type {\n",
       "        vertical-align: middle;\n",
       "    }\n",
       "\n",
       "    .dataframe tbody tr th {\n",
       "        vertical-align: top;\n",
       "    }\n",
       "\n",
       "    .dataframe thead th {\n",
       "        text-align: right;\n",
       "    }\n",
       "</style>\n",
       "<table border=\"1\" class=\"dataframe\">\n",
       "  <thead>\n",
       "    <tr style=\"text-align: right;\">\n",
       "      <th></th>\n",
       "      <th>0</th>\n",
       "      <th>1</th>\n",
       "    </tr>\n",
       "  </thead>\n",
       "  <tbody>\n",
       "    <tr>\n",
       "      <th>0</th>\n",
       "      <td>72</td>\n",
       "      <td>8</td>\n",
       "    </tr>\n",
       "    <tr>\n",
       "      <th>1</th>\n",
       "      <td>12</td>\n",
       "      <td>52</td>\n",
       "    </tr>\n",
       "  </tbody>\n",
       "</table>\n",
       "</div>"
      ],
      "text/plain": [
       "    0   1\n",
       "0  72   8\n",
       "1  12  52"
      ]
     },
     "execution_count": 48,
     "metadata": {},
     "output_type": "execute_result"
    },
    {
     "data": {
      "text/plain": [
       "0.3809368101694389"
      ]
     },
     "execution_count": 48,
     "metadata": {},
     "output_type": "execute_result"
    },
    {
     "data": {
      "text/html": [
       "<div>\n",
       "<style scoped>\n",
       "    .dataframe tbody tr th:only-of-type {\n",
       "        vertical-align: middle;\n",
       "    }\n",
       "\n",
       "    .dataframe tbody tr th {\n",
       "        vertical-align: top;\n",
       "    }\n",
       "\n",
       "    .dataframe thead th {\n",
       "        text-align: right;\n",
       "    }\n",
       "</style>\n",
       "<table border=\"1\" class=\"dataframe\">\n",
       "  <thead>\n",
       "    <tr style=\"text-align: right;\">\n",
       "      <th></th>\n",
       "      <th>0</th>\n",
       "      <th>1</th>\n",
       "    </tr>\n",
       "  </thead>\n",
       "  <tbody>\n",
       "    <tr>\n",
       "      <th>0</th>\n",
       "      <td>16</td>\n",
       "      <td>4</td>\n",
       "    </tr>\n",
       "    <tr>\n",
       "      <th>1</th>\n",
       "      <td>0</td>\n",
       "      <td>16</td>\n",
       "    </tr>\n",
       "  </tbody>\n",
       "</table>\n",
       "</div>"
      ],
      "text/plain": [
       "    0   1\n",
       "0  16   4\n",
       "1   0  16"
      ]
     },
     "execution_count": 48,
     "metadata": {},
     "output_type": "execute_result"
    },
    {
     "data": {
      "text/plain": [
       "0.2807433880886743"
      ]
     },
     "execution_count": 48,
     "metadata": {},
     "output_type": "execute_result"
    }
   ],
   "source": [
    "final_logit_red = grid_search.best_estimator_\n",
    "train_preds = final_logit_red.predict(X_red_tr.drop(\"age\", axis = 1))\n",
    "\n",
    "pd.DataFrame(confusion_matrix(y_train, train_preds))\n",
    "log_loss(y_train, final_logit_red.predict_proba(X_red_tr.drop(\"age\", axis = 1)))\n",
    "\n",
    "\n",
    "test_preds = final_logit_red.predict(X_test_tr.drop(\"age\", axis = 1))\n",
    "pd.DataFrame(confusion_matrix(y_test, test_preds))\n",
    "log_loss(y_test, final_logit_red.predict_proba(X_test_tr.drop(\"age\", axis = 1)))"
   ]
  },
  {
   "cell_type": "code",
   "execution_count": null,
   "metadata": {
    "pycharm": {
     "is_executing": false,
     "name": "#%%\n"
    }
   },
   "outputs": [],
   "source": []
  },
  {
   "cell_type": "code",
   "execution_count": 50,
   "metadata": {
    "pycharm": {
     "is_executing": false
    }
   },
   "outputs": [
    {
     "data": {
      "text/plain": [
       "LogisticRegression(C=0.5, class_weight=None, dual=False, fit_intercept=True,\n",
       "                   intercept_scaling=1, l1_ratio=0.001, max_iter=500,\n",
       "                   multi_class='warn', n_jobs=None, penalty='elasticnet',\n",
       "                   random_state=None, solver='saga', tol=0.0001, verbose=0,\n",
       "                   warm_start=False)"
      ]
     },
     "execution_count": 50,
     "metadata": {},
     "output_type": "execute_result"
    },
    {
     "data": {
      "text/html": [
       "<div>\n",
       "<style scoped>\n",
       "    .dataframe tbody tr th:only-of-type {\n",
       "        vertical-align: middle;\n",
       "    }\n",
       "\n",
       "    .dataframe tbody tr th {\n",
       "        vertical-align: top;\n",
       "    }\n",
       "\n",
       "    .dataframe thead th {\n",
       "        text-align: right;\n",
       "    }\n",
       "</style>\n",
       "<table border=\"1\" class=\"dataframe\">\n",
       "  <thead>\n",
       "    <tr style=\"text-align: right;\">\n",
       "      <th></th>\n",
       "      <th>0</th>\n",
       "      <th>1</th>\n",
       "    </tr>\n",
       "  </thead>\n",
       "  <tbody>\n",
       "    <tr>\n",
       "      <th>0</th>\n",
       "      <td>93</td>\n",
       "      <td>7</td>\n",
       "    </tr>\n",
       "    <tr>\n",
       "      <th>1</th>\n",
       "      <td>14</td>\n",
       "      <td>66</td>\n",
       "    </tr>\n",
       "  </tbody>\n",
       "</table>\n",
       "</div>"
      ],
      "text/plain": [
       "    0   1\n",
       "0  93   7\n",
       "1  14  66"
      ]
     },
     "execution_count": 50,
     "metadata": {},
     "output_type": "execute_result"
    },
    {
     "data": {
      "text/plain": [
       "0.8775"
      ]
     },
     "execution_count": 50,
     "metadata": {},
     "output_type": "execute_result"
    },
    {
     "data": {
      "text/plain": [
       "0.9041095890410958"
      ]
     },
     "execution_count": 50,
     "metadata": {},
     "output_type": "execute_result"
    },
    {
     "data": {
      "text/plain": [
       "0.825"
      ]
     },
     "execution_count": 50,
     "metadata": {},
     "output_type": "execute_result"
    },
    {
     "data": {
      "text/plain": [
       "0.3516823345304826"
      ]
     },
     "execution_count": 50,
     "metadata": {},
     "output_type": "execute_result"
    }
   ],
   "source": [
    "#retrain model on full dataset\n",
    "\n",
    "# final_logit_red.fit(X_full_transf, y)\n",
    "\n",
    "# full_preds = final_logit_red.predict(X_full_transf)\n",
    "\n",
    "# pd.DataFrame(confusion_matrix(y, full_preds))\n",
    "\n",
    "# roc_auc_score(y, full_preds)\n",
    "# precision_score(y, full_preds)\n",
    "# recall_score(y, full_preds)\n",
    "\n",
    "# log_loss(y, final_logit_red.predict_proba(X_full_transf))"
   ]
  },
  {
   "cell_type": "code",
   "execution_count": null,
   "metadata": {
    "pycharm": {
     "is_executing": false
    }
   },
   "outputs": [],
   "source": [
    "\n",
    "# test_probs = pd.DataFrame( final_logit_red.predict_proba(test_data_trans)[:,1] )\n",
    "# test_probs.columns = ['heart_disease_present']\n",
    "\n",
    "# output = pd.concat([pd.DataFrame(patient_id_test), test_probs], axis = 1)\n",
    "# output.head()\n",
    "\n",
    "# output.to_csv('submission_logit_en_red.csv', index = False)"
   ]
  },
  {
   "cell_type": "markdown",
   "metadata": {},
   "source": [
    "## Random Forest"
   ]
  },
  {
   "cell_type": "code",
   "execution_count": 30,
   "metadata": {
    "pycharm": {
     "is_executing": false
    }
   },
   "outputs": [
    {
     "data": {
      "text/html": [
       "<div>\n",
       "<style scoped>\n",
       "    .dataframe tbody tr th:only-of-type {\n",
       "        vertical-align: middle;\n",
       "    }\n",
       "\n",
       "    .dataframe tbody tr th {\n",
       "        vertical-align: top;\n",
       "    }\n",
       "\n",
       "    .dataframe thead th {\n",
       "        text-align: right;\n",
       "    }\n",
       "</style>\n",
       "<table border=\"1\" class=\"dataframe\">\n",
       "  <thead>\n",
       "    <tr style=\"text-align: right;\">\n",
       "      <th></th>\n",
       "      <th>age</th>\n",
       "      <th>max_heart_rate_achieved</th>\n",
       "      <th>num_major_vessels</th>\n",
       "      <th>oldpeak_eq_st_depression</th>\n",
       "      <th>thal_fixed_defect</th>\n",
       "      <th>thal_normal</th>\n",
       "      <th>thal_reversible_defect</th>\n",
       "      <th>chest_pain_type_1</th>\n",
       "      <th>chest_pain_type_2</th>\n",
       "      <th>chest_pain_type_3</th>\n",
       "      <th>chest_pain_type_4</th>\n",
       "      <th>slope_of_peak_exercise_st_segment_1</th>\n",
       "      <th>slope_of_peak_exercise_st_segment_2</th>\n",
       "      <th>slope_of_peak_exercise_st_segment_3</th>\n",
       "      <th>exercise_induced_angina</th>\n",
       "      <th>sex</th>\n",
       "    </tr>\n",
       "  </thead>\n",
       "  <tbody>\n",
       "    <tr>\n",
       "      <th>139</th>\n",
       "      <td>-1.106284</td>\n",
       "      <td>1.732022</td>\n",
       "      <td>-0.729325</td>\n",
       "      <td>-0.892721</td>\n",
       "      <td>0.0</td>\n",
       "      <td>1.0</td>\n",
       "      <td>0.0</td>\n",
       "      <td>0.0</td>\n",
       "      <td>1.0</td>\n",
       "      <td>0.0</td>\n",
       "      <td>0.0</td>\n",
       "      <td>1.0</td>\n",
       "      <td>0.0</td>\n",
       "      <td>0.0</td>\n",
       "      <td>1.0</td>\n",
       "      <td>0.0</td>\n",
       "    </tr>\n",
       "    <tr>\n",
       "      <th>0</th>\n",
       "      <td>-1.003241</td>\n",
       "      <td>0.911440</td>\n",
       "      <td>-0.729325</td>\n",
       "      <td>-0.892721</td>\n",
       "      <td>0.0</td>\n",
       "      <td>1.0</td>\n",
       "      <td>0.0</td>\n",
       "      <td>0.0</td>\n",
       "      <td>1.0</td>\n",
       "      <td>0.0</td>\n",
       "      <td>0.0</td>\n",
       "      <td>1.0</td>\n",
       "      <td>0.0</td>\n",
       "      <td>0.0</td>\n",
       "      <td>1.0</td>\n",
       "      <td>0.0</td>\n",
       "    </tr>\n",
       "    <tr>\n",
       "      <th>169</th>\n",
       "      <td>0.954582</td>\n",
       "      <td>-0.273844</td>\n",
       "      <td>-0.729325</td>\n",
       "      <td>0.781615</td>\n",
       "      <td>0.0</td>\n",
       "      <td>1.0</td>\n",
       "      <td>0.0</td>\n",
       "      <td>1.0</td>\n",
       "      <td>0.0</td>\n",
       "      <td>0.0</td>\n",
       "      <td>0.0</td>\n",
       "      <td>0.0</td>\n",
       "      <td>1.0</td>\n",
       "      <td>0.0</td>\n",
       "      <td>1.0</td>\n",
       "      <td>1.0</td>\n",
       "    </tr>\n",
       "    <tr>\n",
       "      <th>65</th>\n",
       "      <td>-2.033674</td>\n",
       "      <td>0.273211</td>\n",
       "      <td>-0.729325</td>\n",
       "      <td>-0.892721</td>\n",
       "      <td>0.0</td>\n",
       "      <td>0.0</td>\n",
       "      <td>1.0</td>\n",
       "      <td>0.0</td>\n",
       "      <td>0.0</td>\n",
       "      <td>0.0</td>\n",
       "      <td>1.0</td>\n",
       "      <td>1.0</td>\n",
       "      <td>0.0</td>\n",
       "      <td>0.0</td>\n",
       "      <td>1.0</td>\n",
       "      <td>1.0</td>\n",
       "    </tr>\n",
       "    <tr>\n",
       "      <th>98</th>\n",
       "      <td>1.057625</td>\n",
       "      <td>-0.091492</td>\n",
       "      <td>-0.729325</td>\n",
       "      <td>-0.148571</td>\n",
       "      <td>0.0</td>\n",
       "      <td>1.0</td>\n",
       "      <td>0.0</td>\n",
       "      <td>0.0</td>\n",
       "      <td>0.0</td>\n",
       "      <td>1.0</td>\n",
       "      <td>0.0</td>\n",
       "      <td>1.0</td>\n",
       "      <td>0.0</td>\n",
       "      <td>0.0</td>\n",
       "      <td>0.0</td>\n",
       "      <td>0.0</td>\n",
       "    </tr>\n",
       "  </tbody>\n",
       "</table>\n",
       "</div>"
      ],
      "text/plain": [
       "          age  max_heart_rate_achieved  num_major_vessels  \\\n",
       "139 -1.106284                 1.732022          -0.729325   \n",
       "0   -1.003241                 0.911440          -0.729325   \n",
       "169  0.954582                -0.273844          -0.729325   \n",
       "65  -2.033674                 0.273211          -0.729325   \n",
       "98   1.057625                -0.091492          -0.729325   \n",
       "\n",
       "     oldpeak_eq_st_depression  thal_fixed_defect  thal_normal  \\\n",
       "139                 -0.892721                0.0          1.0   \n",
       "0                   -0.892721                0.0          1.0   \n",
       "169                  0.781615                0.0          1.0   \n",
       "65                  -0.892721                0.0          0.0   \n",
       "98                  -0.148571                0.0          1.0   \n",
       "\n",
       "     thal_reversible_defect  chest_pain_type_1  chest_pain_type_2  \\\n",
       "139                     0.0                0.0                1.0   \n",
       "0                       0.0                0.0                1.0   \n",
       "169                     0.0                1.0                0.0   \n",
       "65                      1.0                0.0                0.0   \n",
       "98                      0.0                0.0                0.0   \n",
       "\n",
       "     chest_pain_type_3  chest_pain_type_4  \\\n",
       "139                0.0                0.0   \n",
       "0                  0.0                0.0   \n",
       "169                0.0                0.0   \n",
       "65                 0.0                1.0   \n",
       "98                 1.0                0.0   \n",
       "\n",
       "     slope_of_peak_exercise_st_segment_1  slope_of_peak_exercise_st_segment_2  \\\n",
       "139                                  1.0                                  0.0   \n",
       "0                                    1.0                                  0.0   \n",
       "169                                  0.0                                  1.0   \n",
       "65                                   1.0                                  0.0   \n",
       "98                                   1.0                                  0.0   \n",
       "\n",
       "     slope_of_peak_exercise_st_segment_3  exercise_induced_angina  sex  \n",
       "139                                  0.0                      1.0  0.0  \n",
       "0                                    0.0                      1.0  0.0  \n",
       "169                                  0.0                      1.0  1.0  \n",
       "65                                   0.0                      1.0  1.0  \n",
       "98                                   0.0                      0.0  0.0  "
      ]
     },
     "execution_count": 30,
     "metadata": {},
     "output_type": "execute_result"
    },
    {
     "data": {
      "text/html": [
       "<div>\n",
       "<style scoped>\n",
       "    .dataframe tbody tr th:only-of-type {\n",
       "        vertical-align: middle;\n",
       "    }\n",
       "\n",
       "    .dataframe tbody tr th {\n",
       "        vertical-align: top;\n",
       "    }\n",
       "\n",
       "    .dataframe thead th {\n",
       "        text-align: right;\n",
       "    }\n",
       "</style>\n",
       "<table border=\"1\" class=\"dataframe\">\n",
       "  <thead>\n",
       "    <tr style=\"text-align: right;\">\n",
       "      <th></th>\n",
       "      <th>age</th>\n",
       "      <th>max_heart_rate_achieved</th>\n",
       "      <th>num_major_vessels</th>\n",
       "      <th>oldpeak_eq_st_depression</th>\n",
       "      <th>thal_fixed_defect</th>\n",
       "      <th>thal_normal</th>\n",
       "      <th>thal_reversible_defect</th>\n",
       "      <th>chest_pain_type_1</th>\n",
       "      <th>chest_pain_type_2</th>\n",
       "      <th>chest_pain_type_3</th>\n",
       "      <th>chest_pain_type_4</th>\n",
       "      <th>slope_of_peak_exercise_st_segment_1</th>\n",
       "      <th>slope_of_peak_exercise_st_segment_2</th>\n",
       "      <th>slope_of_peak_exercise_st_segment_3</th>\n",
       "      <th>exercise_induced_angina</th>\n",
       "      <th>sex</th>\n",
       "    </tr>\n",
       "  </thead>\n",
       "  <tbody>\n",
       "    <tr>\n",
       "      <th>24</th>\n",
       "      <td>1.572842</td>\n",
       "      <td>-0.319432</td>\n",
       "      <td>-0.729325</td>\n",
       "      <td>-0.892721</td>\n",
       "      <td>0.0</td>\n",
       "      <td>1.0</td>\n",
       "      <td>0.0</td>\n",
       "      <td>0.0</td>\n",
       "      <td>1.0</td>\n",
       "      <td>0.0</td>\n",
       "      <td>0.0</td>\n",
       "      <td>1.0</td>\n",
       "      <td>0.0</td>\n",
       "      <td>0.0</td>\n",
       "      <td>1.0</td>\n",
       "      <td>0.0</td>\n",
       "    </tr>\n",
       "    <tr>\n",
       "      <th>173</th>\n",
       "      <td>-0.384981</td>\n",
       "      <td>1.048204</td>\n",
       "      <td>-0.729325</td>\n",
       "      <td>0.595578</td>\n",
       "      <td>0.0</td>\n",
       "      <td>0.0</td>\n",
       "      <td>1.0</td>\n",
       "      <td>0.0</td>\n",
       "      <td>0.0</td>\n",
       "      <td>0.0</td>\n",
       "      <td>1.0</td>\n",
       "      <td>1.0</td>\n",
       "      <td>0.0</td>\n",
       "      <td>0.0</td>\n",
       "      <td>1.0</td>\n",
       "      <td>1.0</td>\n",
       "    </tr>\n",
       "    <tr>\n",
       "      <th>81</th>\n",
       "      <td>-0.075851</td>\n",
       "      <td>-1.687067</td>\n",
       "      <td>0.320903</td>\n",
       "      <td>0.409541</td>\n",
       "      <td>0.0</td>\n",
       "      <td>0.0</td>\n",
       "      <td>1.0</td>\n",
       "      <td>0.0</td>\n",
       "      <td>0.0</td>\n",
       "      <td>0.0</td>\n",
       "      <td>1.0</td>\n",
       "      <td>0.0</td>\n",
       "      <td>1.0</td>\n",
       "      <td>0.0</td>\n",
       "      <td>1.0</td>\n",
       "      <td>0.0</td>\n",
       "    </tr>\n",
       "    <tr>\n",
       "      <th>160</th>\n",
       "      <td>-0.591068</td>\n",
       "      <td>0.957028</td>\n",
       "      <td>-0.729325</td>\n",
       "      <td>-0.334609</td>\n",
       "      <td>0.0</td>\n",
       "      <td>1.0</td>\n",
       "      <td>0.0</td>\n",
       "      <td>0.0</td>\n",
       "      <td>1.0</td>\n",
       "      <td>0.0</td>\n",
       "      <td>0.0</td>\n",
       "      <td>1.0</td>\n",
       "      <td>0.0</td>\n",
       "      <td>0.0</td>\n",
       "      <td>1.0</td>\n",
       "      <td>0.0</td>\n",
       "    </tr>\n",
       "    <tr>\n",
       "      <th>35</th>\n",
       "      <td>-0.694111</td>\n",
       "      <td>1.640846</td>\n",
       "      <td>-0.729325</td>\n",
       "      <td>-0.892721</td>\n",
       "      <td>0.0</td>\n",
       "      <td>1.0</td>\n",
       "      <td>0.0</td>\n",
       "      <td>0.0</td>\n",
       "      <td>0.0</td>\n",
       "      <td>0.0</td>\n",
       "      <td>1.0</td>\n",
       "      <td>1.0</td>\n",
       "      <td>0.0</td>\n",
       "      <td>0.0</td>\n",
       "      <td>1.0</td>\n",
       "      <td>0.0</td>\n",
       "    </tr>\n",
       "  </tbody>\n",
       "</table>\n",
       "</div>"
      ],
      "text/plain": [
       "          age  max_heart_rate_achieved  num_major_vessels  \\\n",
       "24   1.572842                -0.319432          -0.729325   \n",
       "173 -0.384981                 1.048204          -0.729325   \n",
       "81  -0.075851                -1.687067           0.320903   \n",
       "160 -0.591068                 0.957028          -0.729325   \n",
       "35  -0.694111                 1.640846          -0.729325   \n",
       "\n",
       "     oldpeak_eq_st_depression  thal_fixed_defect  thal_normal  \\\n",
       "24                  -0.892721                0.0          1.0   \n",
       "173                  0.595578                0.0          0.0   \n",
       "81                   0.409541                0.0          0.0   \n",
       "160                 -0.334609                0.0          1.0   \n",
       "35                  -0.892721                0.0          1.0   \n",
       "\n",
       "     thal_reversible_defect  chest_pain_type_1  chest_pain_type_2  \\\n",
       "24                      0.0                0.0                1.0   \n",
       "173                     1.0                0.0                0.0   \n",
       "81                      1.0                0.0                0.0   \n",
       "160                     0.0                0.0                1.0   \n",
       "35                      0.0                0.0                0.0   \n",
       "\n",
       "     chest_pain_type_3  chest_pain_type_4  \\\n",
       "24                 0.0                0.0   \n",
       "173                0.0                1.0   \n",
       "81                 0.0                1.0   \n",
       "160                0.0                0.0   \n",
       "35                 0.0                1.0   \n",
       "\n",
       "     slope_of_peak_exercise_st_segment_1  slope_of_peak_exercise_st_segment_2  \\\n",
       "24                                   1.0                                  0.0   \n",
       "173                                  1.0                                  0.0   \n",
       "81                                   0.0                                  1.0   \n",
       "160                                  1.0                                  0.0   \n",
       "35                                   1.0                                  0.0   \n",
       "\n",
       "     slope_of_peak_exercise_st_segment_3  exercise_induced_angina  sex  \n",
       "24                                   0.0                      1.0  0.0  \n",
       "173                                  0.0                      1.0  1.0  \n",
       "81                                   0.0                      1.0  0.0  \n",
       "160                                  0.0                      1.0  0.0  \n",
       "35                                   0.0                      1.0  0.0  "
      ]
     },
     "execution_count": 30,
     "metadata": {},
     "output_type": "execute_result"
    }
   ],
   "source": [
    "X_red_tr.head()\n",
    "X_test_tr.head()"
   ]
  },
  {
   "cell_type": "code",
   "execution_count": 31,
   "metadata": {
    "pycharm": {
     "is_executing": false
    }
   },
   "outputs": [
    {
     "data": {
      "text/plain": [
       "RandomForestClassifier(bootstrap=True, class_weight=None, criterion='gini',\n",
       "                       max_depth=None, max_features='auto', max_leaf_nodes=None,\n",
       "                       min_impurity_decrease=0.0, min_impurity_split=None,\n",
       "                       min_samples_leaf=1, min_samples_split=2,\n",
       "                       min_weight_fraction_leaf=0.0, n_estimators=10,\n",
       "                       n_jobs=None, oob_score=False, random_state=42, verbose=0,\n",
       "                       warm_start=False)"
      ]
     },
     "execution_count": 31,
     "metadata": {},
     "output_type": "execute_result"
    },
    {
     "name": "stdout",
     "output_type": "stream",
     "text": [
      "Confusion Matrix on training set\n"
     ]
    },
    {
     "data": {
      "text/html": [
       "<div>\n",
       "<style scoped>\n",
       "    .dataframe tbody tr th:only-of-type {\n",
       "        vertical-align: middle;\n",
       "    }\n",
       "\n",
       "    .dataframe tbody tr th {\n",
       "        vertical-align: top;\n",
       "    }\n",
       "\n",
       "    .dataframe thead th {\n",
       "        text-align: right;\n",
       "    }\n",
       "</style>\n",
       "<table border=\"1\" class=\"dataframe\">\n",
       "  <thead>\n",
       "    <tr style=\"text-align: right;\">\n",
       "      <th></th>\n",
       "      <th>0</th>\n",
       "      <th>1</th>\n",
       "    </tr>\n",
       "  </thead>\n",
       "  <tbody>\n",
       "    <tr>\n",
       "      <th>0</th>\n",
       "      <td>80</td>\n",
       "      <td>0</td>\n",
       "    </tr>\n",
       "    <tr>\n",
       "      <th>1</th>\n",
       "      <td>0</td>\n",
       "      <td>64</td>\n",
       "    </tr>\n",
       "  </tbody>\n",
       "</table>\n",
       "</div>"
      ],
      "text/plain": [
       "    0   1\n",
       "0  80   0\n",
       "1   0  64"
      ]
     },
     "execution_count": 31,
     "metadata": {},
     "output_type": "execute_result"
    },
    {
     "name": "stdout",
     "output_type": "stream",
     "text": [
      "Confusion Matrix on test set\n"
     ]
    },
    {
     "data": {
      "text/html": [
       "<div>\n",
       "<style scoped>\n",
       "    .dataframe tbody tr th:only-of-type {\n",
       "        vertical-align: middle;\n",
       "    }\n",
       "\n",
       "    .dataframe tbody tr th {\n",
       "        vertical-align: top;\n",
       "    }\n",
       "\n",
       "    .dataframe thead th {\n",
       "        text-align: right;\n",
       "    }\n",
       "</style>\n",
       "<table border=\"1\" class=\"dataframe\">\n",
       "  <thead>\n",
       "    <tr style=\"text-align: right;\">\n",
       "      <th></th>\n",
       "      <th>0</th>\n",
       "      <th>1</th>\n",
       "    </tr>\n",
       "  </thead>\n",
       "  <tbody>\n",
       "    <tr>\n",
       "      <th>0</th>\n",
       "      <td>15</td>\n",
       "      <td>5</td>\n",
       "    </tr>\n",
       "    <tr>\n",
       "      <th>1</th>\n",
       "      <td>2</td>\n",
       "      <td>14</td>\n",
       "    </tr>\n",
       "  </tbody>\n",
       "</table>\n",
       "</div>"
      ],
      "text/plain": [
       "    0   1\n",
       "0  15   5\n",
       "1   2  14"
      ]
     },
     "execution_count": 31,
     "metadata": {},
     "output_type": "execute_result"
    }
   ],
   "source": [
    "rf_model = RandomForestClassifier(random_state = 42)\n",
    "rf_model.fit(X_red_tr, y_train)\n",
    "rf_preds = rf_model.predict(X_red_tr)\n",
    "\n",
    "# Random Forest off the bat performs better than logistic regression. Maybe a case of perfectly seperable classes\n",
    "print(\"Confusion Matrix on training set\")\n",
    "pd.DataFrame(confusion_matrix(y_train, rf_preds))\n",
    "\n",
    "\n",
    "rf_test_preds = rf_model.predict(X_test_tr)\n",
    "print(\"Confusion Matrix on test set\")\n",
    "pd.DataFrame(confusion_matrix(y_test, rf_test_preds))"
   ]
  },
  {
   "cell_type": "code",
   "execution_count": 45,
   "metadata": {
    "pycharm": {
     "is_executing": false
    }
   },
   "outputs": [
    {
     "data": {
      "text/plain": [
       "GridSearchCV(cv=5, error_score='raise-deprecating',\n",
       "             estimator=RandomForestClassifier(bootstrap=True, class_weight=None,\n",
       "                                              criterion='gini', max_depth=None,\n",
       "                                              max_features='auto',\n",
       "                                              max_leaf_nodes=None,\n",
       "                                              min_impurity_decrease=0.0,\n",
       "                                              min_impurity_split=None,\n",
       "                                              min_samples_leaf=1,\n",
       "                                              min_samples_split=2,\n",
       "                                              min_weight_fraction_leaf=0.0,\n",
       "                                              n_estimators='warn', n_jobs=None,\n",
       "                                              oob_score=False, random_state=42,\n",
       "                                              verbose=0, warm_start=False),\n",
       "             iid='warn', n_jobs=None,\n",
       "             param_grid=[{'max_features': [2, 3, 4, 5],\n",
       "                          'n_estimators': [10, 50, 100, 200]},\n",
       "                         {'bootstrap': [False], 'max_features': [2, 3, 4, 5],\n",
       "                          'n_estimators': [10, 50, 100, 200]}],\n",
       "             pre_dispatch='2*n_jobs', refit=True, return_train_score=True,\n",
       "             scoring='neg_log_loss', verbose=0)"
      ]
     },
     "execution_count": 45,
     "metadata": {},
     "output_type": "execute_result"
    }
   ],
   "source": [
    "# Fine tune model\n",
    "rf_model = RandomForestClassifier(random_state = 42)\n",
    "\n",
    "param_grid = [\n",
    "    {\"max_features\":[\"auto\", None], \"n_estimators\":[10, 50, 100, 200], \"max_features\":[2,3,4,5]},\n",
    "    {\"bootstrap\":[False],\"n_estimators\":[10, 50, 100, 200], \"max_features\":[2,3,4,5]}\n",
    "]\n",
    "\n",
    "rf_grid = GridSearchCV(rf_model, param_grid, cv = 5, scoring = \"neg_log_loss\", return_train_score=True)\n",
    "rf_grid.fit(X_red_tr, y_train)"
   ]
  },
  {
   "cell_type": "code",
   "execution_count": 46,
   "metadata": {
    "pycharm": {
     "is_executing": false
    }
   },
   "outputs": [
    {
     "data": {
      "text/plain": [
       "{'max_features': 3, 'n_estimators': 100}"
      ]
     },
     "execution_count": 46,
     "metadata": {},
     "output_type": "execute_result"
    }
   ],
   "source": [
    "rf_grid.best_params_"
   ]
  },
  {
   "cell_type": "code",
   "execution_count": 47,
   "metadata": {
    "pycharm": {
     "is_executing": false
    }
   },
   "outputs": [
    {
     "data": {
      "text/html": [
       "<div>\n",
       "<style scoped>\n",
       "    .dataframe tbody tr th:only-of-type {\n",
       "        vertical-align: middle;\n",
       "    }\n",
       "\n",
       "    .dataframe tbody tr th {\n",
       "        vertical-align: top;\n",
       "    }\n",
       "\n",
       "    .dataframe thead th {\n",
       "        text-align: right;\n",
       "    }\n",
       "</style>\n",
       "<table border=\"1\" class=\"dataframe\">\n",
       "  <thead>\n",
       "    <tr style=\"text-align: right;\">\n",
       "      <th></th>\n",
       "      <th>0</th>\n",
       "      <th>1</th>\n",
       "    </tr>\n",
       "  </thead>\n",
       "  <tbody>\n",
       "    <tr>\n",
       "      <th>0</th>\n",
       "      <td>80</td>\n",
       "      <td>0</td>\n",
       "    </tr>\n",
       "    <tr>\n",
       "      <th>1</th>\n",
       "      <td>0</td>\n",
       "      <td>64</td>\n",
       "    </tr>\n",
       "  </tbody>\n",
       "</table>\n",
       "</div>"
      ],
      "text/plain": [
       "    0   1\n",
       "0  80   0\n",
       "1   0  64"
      ]
     },
     "execution_count": 47,
     "metadata": {},
     "output_type": "execute_result"
    },
    {
     "data": {
      "text/html": [
       "<div>\n",
       "<style scoped>\n",
       "    .dataframe tbody tr th:only-of-type {\n",
       "        vertical-align: middle;\n",
       "    }\n",
       "\n",
       "    .dataframe tbody tr th {\n",
       "        vertical-align: top;\n",
       "    }\n",
       "\n",
       "    .dataframe thead th {\n",
       "        text-align: right;\n",
       "    }\n",
       "</style>\n",
       "<table border=\"1\" class=\"dataframe\">\n",
       "  <thead>\n",
       "    <tr style=\"text-align: right;\">\n",
       "      <th></th>\n",
       "      <th>0</th>\n",
       "      <th>1</th>\n",
       "    </tr>\n",
       "  </thead>\n",
       "  <tbody>\n",
       "    <tr>\n",
       "      <th>0</th>\n",
       "      <td>15</td>\n",
       "      <td>5</td>\n",
       "    </tr>\n",
       "    <tr>\n",
       "      <th>1</th>\n",
       "      <td>0</td>\n",
       "      <td>16</td>\n",
       "    </tr>\n",
       "  </tbody>\n",
       "</table>\n",
       "</div>"
      ],
      "text/plain": [
       "    0   1\n",
       "0  15   5\n",
       "1   0  16"
      ]
     },
     "execution_count": 47,
     "metadata": {},
     "output_type": "execute_result"
    },
    {
     "data": {
      "text/plain": [
       "0.12137826746855035"
      ]
     },
     "execution_count": 47,
     "metadata": {},
     "output_type": "execute_result"
    },
    {
     "data": {
      "text/plain": [
       "0.3199824888869995"
      ]
     },
     "execution_count": 47,
     "metadata": {},
     "output_type": "execute_result"
    }
   ],
   "source": [
    "rf_best = rf_grid.best_estimator_\n",
    "\n",
    "pd.DataFrame(confusion_matrix(y_train, rf_best.predict(X_red_tr) ))\n",
    " \n",
    "rf_test_preds = rf_best.predict(X_test_tr)\n",
    "pd.DataFrame(confusion_matrix(y_test, rf_test_preds ))\n",
    "# Performs very well\n",
    "\n",
    "log_loss(y_train, rf_best.predict_proba(X_red_tr))\n",
    "\n",
    "log_loss(y_test, rf_best.predict_proba(X_test_tr))"
   ]
  },
  {
   "cell_type": "code",
   "execution_count": null,
   "metadata": {
    "pycharm": {
     "is_executing": false
    }
   },
   "outputs": [],
   "source": [
    "# retrain on entire dataset\n",
    "# rf_best.fit(X_full_transf, y)\n",
    "\n",
    "# test_probs_rf = pd.DataFrame( rf_best.predict_proba(test_data_trans)[:,1])\n",
    "\n",
    "# test_probs.columns = ['heart_disease_present']\n",
    "\n",
    "# output = pd.concat([pd.DataFrame(patient_id_test), test_probs], axis = 1)\n",
    "# output.head()\n",
    "\n",
    "# output.to_csv('submission_RF.csv', index = False)"
   ]
  },
  {
   "cell_type": "code",
   "execution_count": null,
   "metadata": {
    "pycharm": {
     "is_executing": false
    }
   },
   "outputs": [],
   "source": []
  },
  {
   "cell_type": "code",
   "execution_count": null,
   "metadata": {
    "pycharm": {
     "is_executing": false
    }
   },
   "outputs": [],
   "source": []
  },
  {
   "cell_type": "code",
   "execution_count": null,
   "metadata": {
    "pycharm": {
     "name": "#%%\n"
    }
   },
   "outputs": [],
   "source": [
    "\n"
   ]
  }
 ],
 "metadata": {
  "kernelspec": {
   "display_name": "Python 3",
   "language": "python",
   "name": "python3"
  },
  "language_info": {
   "codemirror_mode": {
    "name": "ipython",
    "version": 3
   },
   "file_extension": ".py",
   "mimetype": "text/x-python",
   "name": "python",
   "nbconvert_exporter": "python",
   "pygments_lexer": "ipython3",
   "version": "3.7.3"
  },
  "pycharm": {
   "stem_cell": {
    "cell_type": "raw",
    "metadata": {
     "collapsed": false
    },
    "source": []
   }
  }
 },
 "nbformat": 4,
 "nbformat_minor": 2
}
